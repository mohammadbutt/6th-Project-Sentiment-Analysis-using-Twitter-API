{
 "cells": [
  {
   "cell_type": "markdown",
   "metadata": {},
   "source": [
    "# Project was peer-reviewed and validated by a Data Scientist.  \n",
    "\n",
    "# Yelp training and twitter testing datasets are available in the repository.  \n",
    "\n",
    "## Business objective of the project is to do sentiment analysis using twitter API and predict polarity of tweets on Donald Trump \n",
    "\n",
    "- Hypothesis – Tweets are likely to be more negative than positive because of the recent political affairs regarding North Korea and separation of families at the border. "
   ]
  },
  {
   "cell_type": "markdown",
   "metadata": {},
   "source": [
    "# 1. Import modules"
   ]
  },
  {
   "cell_type": "code",
   "execution_count": 98,
   "metadata": {},
   "outputs": [],
   "source": [
    "import pandas as pd\n",
    "import numpy as np\n",
    "import scipy as sp\n",
    "import seaborn as sns\n",
    "import matplotlib.pyplot as plt\n",
    "%matplotlib inline\n",
    "#pd.set_option('display.max_columns', 27)\n",
    "#pd.set_option('display.max_columns', None) - For unlimited columns"
   ]
  },
  {
   "cell_type": "markdown",
   "metadata": {},
   "source": [
    "# 2. Import consumer and access credentials – For this project text files were created and credentials were saved in those files. But a module also called package can be created, and the module can be imported just how pandas and numpy are imported in the above cell. These credentials have to be kept safe, but if these get shared accidentally, new credentials can be generated, which will replace the old credentials."
   ]
  },
  {
   "cell_type": "code",
   "execution_count": null,
   "metadata": {},
   "outputs": [],
   "source": [
    "CONSUMER_KEY = open(\"CONSUMER_KEY.txt\", \"r\").read()\n",
    "CONSUMER_SECRET = open(\"CONSUMER_SECRET.txt\", \"r\").read()\n",
    "ACCESS_TOKEN = open(\"ACCESS_TOKEN.txt\", \"r\").read()\n",
    "ACCESS_TOKEN_SECRET = open(\"ACCESS_TOKEN_SECRET.txt\", \"r\").read()\n",
    "#Raw NBConvert after streaming"
   ]
  },
  {
   "cell_type": "markdown",
   "metadata": {},
   "source": [
    "# 3. Save tweets in a file - Tweets are streamed using a package called \"tweepy\". Search words are entered and then live tweets for that topic are streamed. Tweepy reads live tweets about the search words and saves them in a text file. Since these tweets are being collected live, if more people tweet about these words, then more tweets will be gathered in less time.\n",
    "# To finish streaming, the session would have to be manually terminated and it will keep all the tweets saved which can be imported later, so tweets don’t have to be streamed each time."
   ]
  },
  {
   "cell_type": "code",
   "execution_count": null,
   "metadata": {},
   "outputs": [],
   "source": [
    "import tweepy\n",
    "from tweepy.streaming import StreamListener\n",
    "from tweepy import OAuthHandler\n",
    "from tweepy import Stream\n",
    "import time\n",
    "\n",
    "class savetweepyTweets(StreamListener):\n",
    "    \n",
    "    def on_data(self, data):\n",
    "        \n",
    "        try:\n",
    "            print(type(data))\n",
    "            print(\"New tweet\")\n",
    "            savefile = open(\"twitter.txt\", \"a\")\n",
    "            savefile.write(data)\n",
    "            savefile.write(\"\\n\")\n",
    "            savefile.close()\n",
    "            return True\n",
    "        except BaseException as e:\n",
    "            print(\"Failed \", str(e))\n",
    "            #self.disconnect()\n",
    "            \n",
    "    def on_error(self, status):\n",
    "        print(status)\n",
    "        #api.disconnect()  # added for extended tweet\n",
    "        stream.disconnect() # -- Original\n",
    "\n",
    "tl = savetweepyTweets()\n",
    "au = OAuthHandler(CONSUMER_KEY, CONSUMER_SECRET)\n",
    "au.set_access_token(ACCESS_TOKEN, ACCESS_TOKEN_SECRET)\n",
    "stream = Stream(au, tl)  # original\n",
    "#api = tweepy.API(au)     # added for extended tweet\n",
    "#Raw NBConvert after streaming"
   ]
  },
  {
   "cell_type": "code",
   "execution_count": null,
   "metadata": {},
   "outputs": [],
   "source": [
    "stream.filter(track=[\"Trump\", \"Donald Trump\"], languages = ['en']) # -- Original\n",
    "\n",
    "#api.search(q=[\"Anthony Bourdain\", \"Bourdain\", \"@Bourdain\"], lang =\"en\", tweet_mode=\"extended\") # added for extended tweet\n",
    "#stream.Cursor(api.search,[\"to:Anthony Bourdain\", \"to:Bourdain\"], tweet_mode=\"extended\", languages = ['en'])\n",
    "#Raw NBConvert after streaming"
   ]
  },
  {
   "cell_type": "code",
   "execution_count": null,
   "metadata": {},
   "outputs": [],
   "source": [
    "stream.disconnect()       # added for extended tweet\n",
    "#api.disconnect()  # original\n",
    "#Raw NBConvert after streaming"
   ]
  },
  {
   "cell_type": "markdown",
   "metadata": {},
   "source": [
    "# 4. JSON is used to read the saved file that were streamed and then those tweets are saved in a list."
   ]
  },
  {
   "cell_type": "code",
   "execution_count": 99,
   "metadata": {},
   "outputs": [],
   "source": [
    "import json\n",
    "\n",
    "tweets_data = []\n",
    "json_data = open(\"twitter_donald_trump.txt\", \"r\")\n",
    "for line in json_data:\n",
    "    try:\n",
    "        twe = json.loads(line)\n",
    "        tweets_data.append(twe)\n",
    "    except:\n",
    "        continue"
   ]
  },
  {
   "cell_type": "code",
   "execution_count": 100,
   "metadata": {},
   "outputs": [
    {
     "data": {
      "text/plain": [
       "2054"
      ]
     },
     "execution_count": 100,
     "metadata": {},
     "output_type": "execute_result"
    }
   ],
   "source": [
    "len(tweets_data)"
   ]
  },
  {
   "cell_type": "markdown",
   "metadata": {},
   "source": [
    "# Below is all the information that is received with one tweet."
   ]
  },
  {
   "cell_type": "code",
   "execution_count": 101,
   "metadata": {
    "scrolled": true
   },
   "outputs": [
    {
     "data": {
      "text/plain": [
       "{'created_at': 'Fri Jun 15 23:43:00 +0000 2018',\n",
       " 'id': 1007770481724805120,\n",
       " 'id_str': '1007770481724805120',\n",
       " 'text': '@existentialfish @KevinMKruse Especially trump and yet he is for some reason.',\n",
       " 'display_text_range': [30, 77],\n",
       " 'source': '<a href=\"http://twitter.com/download/iphone\" rel=\"nofollow\">Twitter for iPhone</a>',\n",
       " 'truncated': False,\n",
       " 'in_reply_to_status_id': 1007651197816320000,\n",
       " 'in_reply_to_status_id_str': '1007651197816320000',\n",
       " 'in_reply_to_user_id': 17209415,\n",
       " 'in_reply_to_user_id_str': '17209415',\n",
       " 'in_reply_to_screen_name': 'existentialfish',\n",
       " 'user': {'id': 350373053,\n",
       "  'id_str': '350373053',\n",
       "  'name': 'Hawkeye Jill',\n",
       "  'screen_name': 'estepjill',\n",
       "  'location': 'Phoenix, AZ',\n",
       "  'url': None,\n",
       "  'description': 'Retired insurance executive. Hoping to soon awake from this national nightmare.',\n",
       "  'translator_type': 'none',\n",
       "  'protected': False,\n",
       "  'verified': False,\n",
       "  'followers_count': 510,\n",
       "  'friends_count': 182,\n",
       "  'listed_count': 2,\n",
       "  'favourites_count': 62291,\n",
       "  'statuses_count': 38712,\n",
       "  'created_at': 'Sun Aug 07 17:26:42 +0000 2011',\n",
       "  'utc_offset': None,\n",
       "  'time_zone': None,\n",
       "  'geo_enabled': False,\n",
       "  'lang': 'en',\n",
       "  'contributors_enabled': False,\n",
       "  'is_translator': False,\n",
       "  'profile_background_color': 'C0DEED',\n",
       "  'profile_background_image_url': 'http://abs.twimg.com/images/themes/theme1/bg.png',\n",
       "  'profile_background_image_url_https': 'https://abs.twimg.com/images/themes/theme1/bg.png',\n",
       "  'profile_background_tile': False,\n",
       "  'profile_link_color': '1DA1F2',\n",
       "  'profile_sidebar_border_color': 'C0DEED',\n",
       "  'profile_sidebar_fill_color': 'DDEEF6',\n",
       "  'profile_text_color': '333333',\n",
       "  'profile_use_background_image': True,\n",
       "  'profile_image_url': 'http://pbs.twimg.com/profile_images/918202036973219840/Jpxg894K_normal.jpg',\n",
       "  'profile_image_url_https': 'https://pbs.twimg.com/profile_images/918202036973219840/Jpxg894K_normal.jpg',\n",
       "  'default_profile': True,\n",
       "  'default_profile_image': False,\n",
       "  'following': None,\n",
       "  'follow_request_sent': None,\n",
       "  'notifications': None},\n",
       " 'geo': None,\n",
       " 'coordinates': None,\n",
       " 'place': None,\n",
       " 'contributors': None,\n",
       " 'is_quote_status': False,\n",
       " 'quote_count': 0,\n",
       " 'reply_count': 0,\n",
       " 'retweet_count': 0,\n",
       " 'favorite_count': 0,\n",
       " 'entities': {'hashtags': [],\n",
       "  'urls': [],\n",
       "  'user_mentions': [{'screen_name': 'existentialfish',\n",
       "    'name': 'John Whitehouse',\n",
       "    'id': 17209415,\n",
       "    'id_str': '17209415',\n",
       "    'indices': [0, 16]},\n",
       "   {'screen_name': 'KevinMKruse',\n",
       "    'name': 'Kevin M. Kruse',\n",
       "    'id': 3060489838,\n",
       "    'id_str': '3060489838',\n",
       "    'indices': [17, 29]}],\n",
       "  'symbols': []},\n",
       " 'favorited': False,\n",
       " 'retweeted': False,\n",
       " 'filter_level': 'low',\n",
       " 'lang': 'en',\n",
       " 'timestamp_ms': '1529106180970'}"
      ]
     },
     "execution_count": 101,
     "metadata": {},
     "output_type": "execute_result"
    }
   ],
   "source": [
    "tweets_data[0]"
   ]
  },
  {
   "cell_type": "markdown",
   "metadata": {},
   "source": [
    "# 5. Above information is converted into a DataFrame because it is easy to analyze and manipulate information in a DataFrame format.\n",
    "\n",
    "# Below is what the information will look like after turning it into a DataFrame. Information has been organized into columns."
   ]
  },
  {
   "cell_type": "code",
   "execution_count": 102,
   "metadata": {},
   "outputs": [
    {
     "data": {
      "text/html": [
       "<div>\n",
       "<style scoped>\n",
       "    .dataframe tbody tr th:only-of-type {\n",
       "        vertical-align: middle;\n",
       "    }\n",
       "\n",
       "    .dataframe tbody tr th {\n",
       "        vertical-align: top;\n",
       "    }\n",
       "\n",
       "    .dataframe thead th {\n",
       "        text-align: right;\n",
       "    }\n",
       "</style>\n",
       "<table border=\"1\" class=\"dataframe\">\n",
       "  <thead>\n",
       "    <tr style=\"text-align: right;\">\n",
       "      <th></th>\n",
       "      <th>contributors</th>\n",
       "      <th>coordinates</th>\n",
       "      <th>created_at</th>\n",
       "      <th>display_text_range</th>\n",
       "      <th>entities</th>\n",
       "      <th>extended_entities</th>\n",
       "      <th>extended_tweet</th>\n",
       "      <th>favorite_count</th>\n",
       "      <th>favorited</th>\n",
       "      <th>filter_level</th>\n",
       "      <th>...</th>\n",
       "      <th>reply_count</th>\n",
       "      <th>retweet_count</th>\n",
       "      <th>retweeted</th>\n",
       "      <th>retweeted_status</th>\n",
       "      <th>source</th>\n",
       "      <th>text</th>\n",
       "      <th>timestamp_ms</th>\n",
       "      <th>truncated</th>\n",
       "      <th>user</th>\n",
       "      <th>withheld_in_countries</th>\n",
       "    </tr>\n",
       "  </thead>\n",
       "  <tbody>\n",
       "    <tr>\n",
       "      <th>0</th>\n",
       "      <td>NaN</td>\n",
       "      <td>None</td>\n",
       "      <td>Fri Jun 15 23:43:00 +0000 2018</td>\n",
       "      <td>[30, 77]</td>\n",
       "      <td>{'hashtags': [], 'urls': [], 'user_mentions': ...</td>\n",
       "      <td>NaN</td>\n",
       "      <td>NaN</td>\n",
       "      <td>0.0</td>\n",
       "      <td>False</td>\n",
       "      <td>low</td>\n",
       "      <td>...</td>\n",
       "      <td>0.0</td>\n",
       "      <td>0.0</td>\n",
       "      <td>False</td>\n",
       "      <td>NaN</td>\n",
       "      <td>&lt;a href=\"http://twitter.com/download/iphone\" r...</td>\n",
       "      <td>@existentialfish @KevinMKruse Especially trump...</td>\n",
       "      <td>1529106180970</td>\n",
       "      <td>False</td>\n",
       "      <td>{'id': 350373053, 'id_str': '350373053', 'name...</td>\n",
       "      <td>NaN</td>\n",
       "    </tr>\n",
       "    <tr>\n",
       "      <th>1</th>\n",
       "      <td>NaN</td>\n",
       "      <td>None</td>\n",
       "      <td>Fri Jun 15 23:43:00 +0000 2018</td>\n",
       "      <td>NaN</td>\n",
       "      <td>{'hashtags': [], 'urls': [{'url': 'https://t.c...</td>\n",
       "      <td>NaN</td>\n",
       "      <td>{'full_text': '2 months ago Kathy Griffin was ...</td>\n",
       "      <td>0.0</td>\n",
       "      <td>False</td>\n",
       "      <td>low</td>\n",
       "      <td>...</td>\n",
       "      <td>0.0</td>\n",
       "      <td>0.0</td>\n",
       "      <td>False</td>\n",
       "      <td>NaN</td>\n",
       "      <td>&lt;a href=\"http://twitter.com/download/iphone\" r...</td>\n",
       "      <td>2 months ago Kathy Griffin was a pariah but no...</td>\n",
       "      <td>1529106180911</td>\n",
       "      <td>True</td>\n",
       "      <td>{'id': 931103167, 'id_str': '931103167', 'name...</td>\n",
       "      <td>NaN</td>\n",
       "    </tr>\n",
       "    <tr>\n",
       "      <th>2</th>\n",
       "      <td>NaN</td>\n",
       "      <td>None</td>\n",
       "      <td>Fri Jun 15 23:43:00 +0000 2018</td>\n",
       "      <td>NaN</td>\n",
       "      <td>{'hashtags': [], 'urls': [], 'user_mentions': ...</td>\n",
       "      <td>NaN</td>\n",
       "      <td>NaN</td>\n",
       "      <td>0.0</td>\n",
       "      <td>False</td>\n",
       "      <td>low</td>\n",
       "      <td>...</td>\n",
       "      <td>0.0</td>\n",
       "      <td>0.0</td>\n",
       "      <td>False</td>\n",
       "      <td>{'created_at': 'Fri Jun 15 01:53:07 +0000 2018...</td>\n",
       "      <td>&lt;a href=\"http://twitter.com/download/iphone\" r...</td>\n",
       "      <td>RT @prernaplal: The 1997 Flores Agreement that...</td>\n",
       "      <td>1529106180923</td>\n",
       "      <td>False</td>\n",
       "      <td>{'id': 803074388031631360, 'id_str': '80307438...</td>\n",
       "      <td>NaN</td>\n",
       "    </tr>\n",
       "    <tr>\n",
       "      <th>3</th>\n",
       "      <td>NaN</td>\n",
       "      <td>None</td>\n",
       "      <td>Fri Jun 15 23:43:00 +0000 2018</td>\n",
       "      <td>NaN</td>\n",
       "      <td>{'hashtags': [], 'urls': [], 'user_mentions': ...</td>\n",
       "      <td>NaN</td>\n",
       "      <td>NaN</td>\n",
       "      <td>0.0</td>\n",
       "      <td>False</td>\n",
       "      <td>low</td>\n",
       "      <td>...</td>\n",
       "      <td>0.0</td>\n",
       "      <td>0.0</td>\n",
       "      <td>False</td>\n",
       "      <td>{'created_at': 'Fri Jun 15 17:53:31 +0000 2018...</td>\n",
       "      <td>&lt;a href=\"http://twitter.com/download/android\" ...</td>\n",
       "      <td>RT @SethAbramson: TRUMP-RUSSIA UPDATE\\n\\nFlynn...</td>\n",
       "      <td>1529106180905</td>\n",
       "      <td>False</td>\n",
       "      <td>{'id': 879049928508674050, 'id_str': '87904992...</td>\n",
       "      <td>NaN</td>\n",
       "    </tr>\n",
       "    <tr>\n",
       "      <th>4</th>\n",
       "      <td>NaN</td>\n",
       "      <td>None</td>\n",
       "      <td>Fri Jun 15 23:43:00 +0000 2018</td>\n",
       "      <td>NaN</td>\n",
       "      <td>{'hashtags': [], 'urls': [], 'user_mentions': ...</td>\n",
       "      <td>NaN</td>\n",
       "      <td>NaN</td>\n",
       "      <td>0.0</td>\n",
       "      <td>False</td>\n",
       "      <td>low</td>\n",
       "      <td>...</td>\n",
       "      <td>0.0</td>\n",
       "      <td>0.0</td>\n",
       "      <td>False</td>\n",
       "      <td>{'created_at': 'Fri Jun 15 22:02:11 +0000 2018...</td>\n",
       "      <td>&lt;a href=\"http://twitter.com\" rel=\"nofollow\"&gt;Tw...</td>\n",
       "      <td>RT @NetworksManager: Don't let Paul Manafort r...</td>\n",
       "      <td>1529106180906</td>\n",
       "      <td>False</td>\n",
       "      <td>{'id': 1563908942, 'id_str': '1563908942', 'na...</td>\n",
       "      <td>NaN</td>\n",
       "    </tr>\n",
       "  </tbody>\n",
       "</table>\n",
       "<p>5 rows × 38 columns</p>\n",
       "</div>"
      ],
      "text/plain": [
       "   contributors coordinates                      created_at  \\\n",
       "0           NaN        None  Fri Jun 15 23:43:00 +0000 2018   \n",
       "1           NaN        None  Fri Jun 15 23:43:00 +0000 2018   \n",
       "2           NaN        None  Fri Jun 15 23:43:00 +0000 2018   \n",
       "3           NaN        None  Fri Jun 15 23:43:00 +0000 2018   \n",
       "4           NaN        None  Fri Jun 15 23:43:00 +0000 2018   \n",
       "\n",
       "  display_text_range                                           entities  \\\n",
       "0           [30, 77]  {'hashtags': [], 'urls': [], 'user_mentions': ...   \n",
       "1                NaN  {'hashtags': [], 'urls': [{'url': 'https://t.c...   \n",
       "2                NaN  {'hashtags': [], 'urls': [], 'user_mentions': ...   \n",
       "3                NaN  {'hashtags': [], 'urls': [], 'user_mentions': ...   \n",
       "4                NaN  {'hashtags': [], 'urls': [], 'user_mentions': ...   \n",
       "\n",
       "  extended_entities                                     extended_tweet  \\\n",
       "0               NaN                                                NaN   \n",
       "1               NaN  {'full_text': '2 months ago Kathy Griffin was ...   \n",
       "2               NaN                                                NaN   \n",
       "3               NaN                                                NaN   \n",
       "4               NaN                                                NaN   \n",
       "\n",
       "   favorite_count favorited filter_level          ...          reply_count  \\\n",
       "0             0.0     False          low          ...                  0.0   \n",
       "1             0.0     False          low          ...                  0.0   \n",
       "2             0.0     False          low          ...                  0.0   \n",
       "3             0.0     False          low          ...                  0.0   \n",
       "4             0.0     False          low          ...                  0.0   \n",
       "\n",
       "   retweet_count retweeted                                   retweeted_status  \\\n",
       "0            0.0     False                                                NaN   \n",
       "1            0.0     False                                                NaN   \n",
       "2            0.0     False  {'created_at': 'Fri Jun 15 01:53:07 +0000 2018...   \n",
       "3            0.0     False  {'created_at': 'Fri Jun 15 17:53:31 +0000 2018...   \n",
       "4            0.0     False  {'created_at': 'Fri Jun 15 22:02:11 +0000 2018...   \n",
       "\n",
       "                                              source  \\\n",
       "0  <a href=\"http://twitter.com/download/iphone\" r...   \n",
       "1  <a href=\"http://twitter.com/download/iphone\" r...   \n",
       "2  <a href=\"http://twitter.com/download/iphone\" r...   \n",
       "3  <a href=\"http://twitter.com/download/android\" ...   \n",
       "4  <a href=\"http://twitter.com\" rel=\"nofollow\">Tw...   \n",
       "\n",
       "                                                text   timestamp_ms truncated  \\\n",
       "0  @existentialfish @KevinMKruse Especially trump...  1529106180970     False   \n",
       "1  2 months ago Kathy Griffin was a pariah but no...  1529106180911      True   \n",
       "2  RT @prernaplal: The 1997 Flores Agreement that...  1529106180923     False   \n",
       "3  RT @SethAbramson: TRUMP-RUSSIA UPDATE\\n\\nFlynn...  1529106180905     False   \n",
       "4  RT @NetworksManager: Don't let Paul Manafort r...  1529106180906     False   \n",
       "\n",
       "                                                user withheld_in_countries  \n",
       "0  {'id': 350373053, 'id_str': '350373053', 'name...                   NaN  \n",
       "1  {'id': 931103167, 'id_str': '931103167', 'name...                   NaN  \n",
       "2  {'id': 803074388031631360, 'id_str': '80307438...                   NaN  \n",
       "3  {'id': 879049928508674050, 'id_str': '87904992...                   NaN  \n",
       "4  {'id': 1563908942, 'id_str': '1563908942', 'na...                   NaN  \n",
       "\n",
       "[5 rows x 38 columns]"
      ]
     },
     "execution_count": 102,
     "metadata": {},
     "output_type": "execute_result"
    }
   ],
   "source": [
    "tweet_df = pd.DataFrame(tweets_data)\n",
    "tweet_df.head()"
   ]
  },
  {
   "cell_type": "code",
   "execution_count": 103,
   "metadata": {
    "scrolled": true
   },
   "outputs": [
    {
     "name": "stdout",
     "output_type": "stream",
     "text": [
      "<class 'pandas.core.frame.DataFrame'>\n",
      "RangeIndex: 2054 entries, 0 to 2053\n",
      "Data columns (total 38 columns):\n",
      "contributors                 0 non-null float64\n",
      "coordinates                  1 non-null object\n",
      "created_at                   1950 non-null object\n",
      "display_text_range           396 non-null object\n",
      "entities                     1950 non-null object\n",
      "extended_entities            64 non-null object\n",
      "extended_tweet               209 non-null object\n",
      "favorite_count               1950 non-null float64\n",
      "favorited                    1950 non-null object\n",
      "filter_level                 1950 non-null object\n",
      "geo                          1 non-null object\n",
      "id                           1950 non-null float64\n",
      "id_str                       1950 non-null object\n",
      "in_reply_to_screen_name      308 non-null object\n",
      "in_reply_to_status_id        284 non-null float64\n",
      "in_reply_to_status_id_str    284 non-null object\n",
      "in_reply_to_user_id          308 non-null float64\n",
      "in_reply_to_user_id_str      308 non-null object\n",
      "is_quote_status              1950 non-null object\n",
      "lang                         1950 non-null object\n",
      "limit                        104 non-null object\n",
      "place                        21 non-null object\n",
      "possibly_sensitive           434 non-null object\n",
      "quote_count                  1950 non-null float64\n",
      "quoted_status                444 non-null object\n",
      "quoted_status_id             444 non-null float64\n",
      "quoted_status_id_str         444 non-null object\n",
      "quoted_status_permalink      444 non-null object\n",
      "reply_count                  1950 non-null float64\n",
      "retweet_count                1950 non-null float64\n",
      "retweeted                    1950 non-null object\n",
      "retweeted_status             1458 non-null object\n",
      "source                       1950 non-null object\n",
      "text                         1950 non-null object\n",
      "timestamp_ms                 1950 non-null object\n",
      "truncated                    1950 non-null object\n",
      "user                         1950 non-null object\n",
      "withheld_in_countries        4 non-null object\n",
      "dtypes: float64(9), object(29)\n",
      "memory usage: 609.9+ KB\n"
     ]
    }
   ],
   "source": [
    "tweet_df.info()"
   ]
  },
  {
   "cell_type": "code",
   "execution_count": 104,
   "metadata": {
    "scrolled": true
   },
   "outputs": [
    {
     "data": {
      "text/html": [
       "<div>\n",
       "<style scoped>\n",
       "    .dataframe tbody tr th:only-of-type {\n",
       "        vertical-align: middle;\n",
       "    }\n",
       "\n",
       "    .dataframe tbody tr th {\n",
       "        vertical-align: top;\n",
       "    }\n",
       "\n",
       "    .dataframe thead th {\n",
       "        text-align: right;\n",
       "    }\n",
       "</style>\n",
       "<table border=\"1\" class=\"dataframe\">\n",
       "  <thead>\n",
       "    <tr style=\"text-align: right;\">\n",
       "      <th></th>\n",
       "      <th>created_at</th>\n",
       "      <th>text</th>\n",
       "    </tr>\n",
       "  </thead>\n",
       "  <tbody>\n",
       "    <tr>\n",
       "      <th>0</th>\n",
       "      <td>Fri Jun 15 23:43:00 +0000 2018</td>\n",
       "      <td>@existentialfish @KevinMKruse Especially trump...</td>\n",
       "    </tr>\n",
       "    <tr>\n",
       "      <th>1</th>\n",
       "      <td>Fri Jun 15 23:43:00 +0000 2018</td>\n",
       "      <td>2 months ago Kathy Griffin was a pariah but no...</td>\n",
       "    </tr>\n",
       "    <tr>\n",
       "      <th>2</th>\n",
       "      <td>Fri Jun 15 23:43:00 +0000 2018</td>\n",
       "      <td>RT @prernaplal: The 1997 Flores Agreement that...</td>\n",
       "    </tr>\n",
       "    <tr>\n",
       "      <th>3</th>\n",
       "      <td>Fri Jun 15 23:43:00 +0000 2018</td>\n",
       "      <td>RT @SethAbramson: TRUMP-RUSSIA UPDATE\\n\\nFlynn...</td>\n",
       "    </tr>\n",
       "    <tr>\n",
       "      <th>4</th>\n",
       "      <td>Fri Jun 15 23:43:00 +0000 2018</td>\n",
       "      <td>RT @NetworksManager: Don't let Paul Manafort r...</td>\n",
       "    </tr>\n",
       "  </tbody>\n",
       "</table>\n",
       "</div>"
      ],
      "text/plain": [
       "                       created_at  \\\n",
       "0  Fri Jun 15 23:43:00 +0000 2018   \n",
       "1  Fri Jun 15 23:43:00 +0000 2018   \n",
       "2  Fri Jun 15 23:43:00 +0000 2018   \n",
       "3  Fri Jun 15 23:43:00 +0000 2018   \n",
       "4  Fri Jun 15 23:43:00 +0000 2018   \n",
       "\n",
       "                                                text  \n",
       "0  @existentialfish @KevinMKruse Especially trump...  \n",
       "1  2 months ago Kathy Griffin was a pariah but no...  \n",
       "2  RT @prernaplal: The 1997 Flores Agreement that...  \n",
       "3  RT @SethAbramson: TRUMP-RUSSIA UPDATE\\n\\nFlynn...  \n",
       "4  RT @NetworksManager: Don't let Paul Manafort r...  "
      ]
     },
     "execution_count": 104,
     "metadata": {},
     "output_type": "execute_result"
    }
   ],
   "source": [
    "#pd.set_option(\"display.max_colwidth\", 0)\n",
    "tweet_df[['created_at', 'text']].head()"
   ]
  },
  {
   "cell_type": "markdown",
   "metadata": {},
   "source": [
    "# 6. Optional – User information – Tweets were stored in a DataFrame format, but each user's information in the DataFrame is still stored as a dictionary.  \n",
    "\n",
    "# Below is what this information looks like for each user. And these features are also stored in the form of dictionary within the DataFrame."
   ]
  },
  {
   "cell_type": "code",
   "execution_count": 105,
   "metadata": {},
   "outputs": [
    {
     "data": {
      "text/plain": [
       "{'id': 350373053,\n",
       " 'id_str': '350373053',\n",
       " 'name': 'Hawkeye Jill',\n",
       " 'screen_name': 'estepjill',\n",
       " 'location': 'Phoenix, AZ',\n",
       " 'url': None,\n",
       " 'description': 'Retired insurance executive. Hoping to soon awake from this national nightmare.',\n",
       " 'translator_type': 'none',\n",
       " 'protected': False,\n",
       " 'verified': False,\n",
       " 'followers_count': 510,\n",
       " 'friends_count': 182,\n",
       " 'listed_count': 2,\n",
       " 'favourites_count': 62291,\n",
       " 'statuses_count': 38712,\n",
       " 'created_at': 'Sun Aug 07 17:26:42 +0000 2011',\n",
       " 'utc_offset': None,\n",
       " 'time_zone': None,\n",
       " 'geo_enabled': False,\n",
       " 'lang': 'en',\n",
       " 'contributors_enabled': False,\n",
       " 'is_translator': False,\n",
       " 'profile_background_color': 'C0DEED',\n",
       " 'profile_background_image_url': 'http://abs.twimg.com/images/themes/theme1/bg.png',\n",
       " 'profile_background_image_url_https': 'https://abs.twimg.com/images/themes/theme1/bg.png',\n",
       " 'profile_background_tile': False,\n",
       " 'profile_link_color': '1DA1F2',\n",
       " 'profile_sidebar_border_color': 'C0DEED',\n",
       " 'profile_sidebar_fill_color': 'DDEEF6',\n",
       " 'profile_text_color': '333333',\n",
       " 'profile_use_background_image': True,\n",
       " 'profile_image_url': 'http://pbs.twimg.com/profile_images/918202036973219840/Jpxg894K_normal.jpg',\n",
       " 'profile_image_url_https': 'https://pbs.twimg.com/profile_images/918202036973219840/Jpxg894K_normal.jpg',\n",
       " 'default_profile': True,\n",
       " 'default_profile_image': False,\n",
       " 'following': None,\n",
       " 'follow_request_sent': None,\n",
       " 'notifications': None}"
      ]
     },
     "execution_count": 105,
     "metadata": {},
     "output_type": "execute_result"
    }
   ],
   "source": [
    "tweet_df.user[0]"
   ]
  },
  {
   "cell_type": "markdown",
   "metadata": {},
   "source": [
    "# The above user information that is stored in the dictionary format is converted into DataFrame, so information is more organized and easier to access.\n",
    "\n",
    "# User information is converted into DataFrame below."
   ]
  },
  {
   "cell_type": "code",
   "execution_count": 106,
   "metadata": {},
   "outputs": [
    {
     "data": {
      "text/html": [
       "<div>\n",
       "<style scoped>\n",
       "    .dataframe tbody tr th:only-of-type {\n",
       "        vertical-align: middle;\n",
       "    }\n",
       "\n",
       "    .dataframe tbody tr th {\n",
       "        vertical-align: top;\n",
       "    }\n",
       "\n",
       "    .dataframe thead th {\n",
       "        text-align: right;\n",
       "    }\n",
       "</style>\n",
       "<table border=\"1\" class=\"dataframe\">\n",
       "  <thead>\n",
       "    <tr style=\"text-align: right;\">\n",
       "      <th></th>\n",
       "      <th>contributors_enabled</th>\n",
       "      <th>created_at</th>\n",
       "      <th>default_profile</th>\n",
       "      <th>default_profile_image</th>\n",
       "      <th>description</th>\n",
       "      <th>favourites_count</th>\n",
       "      <th>follow_request_sent</th>\n",
       "      <th>followers_count</th>\n",
       "      <th>following</th>\n",
       "      <th>friends_count</th>\n",
       "      <th>...</th>\n",
       "      <th>profile_text_color</th>\n",
       "      <th>profile_use_background_image</th>\n",
       "      <th>protected</th>\n",
       "      <th>screen_name</th>\n",
       "      <th>statuses_count</th>\n",
       "      <th>time_zone</th>\n",
       "      <th>translator_type</th>\n",
       "      <th>url</th>\n",
       "      <th>utc_offset</th>\n",
       "      <th>verified</th>\n",
       "    </tr>\n",
       "  </thead>\n",
       "  <tbody>\n",
       "    <tr>\n",
       "      <th>0</th>\n",
       "      <td>False</td>\n",
       "      <td>Sun Aug 07 17:26:42 +0000 2011</td>\n",
       "      <td>True</td>\n",
       "      <td>False</td>\n",
       "      <td>Retired insurance executive. Hoping to soon aw...</td>\n",
       "      <td>62291.0</td>\n",
       "      <td>NaN</td>\n",
       "      <td>510.0</td>\n",
       "      <td>NaN</td>\n",
       "      <td>182.0</td>\n",
       "      <td>...</td>\n",
       "      <td>333333</td>\n",
       "      <td>True</td>\n",
       "      <td>False</td>\n",
       "      <td>estepjill</td>\n",
       "      <td>38712.0</td>\n",
       "      <td>NaN</td>\n",
       "      <td>none</td>\n",
       "      <td>None</td>\n",
       "      <td>NaN</td>\n",
       "      <td>False</td>\n",
       "    </tr>\n",
       "    <tr>\n",
       "      <th>1</th>\n",
       "      <td>False</td>\n",
       "      <td>Wed Nov 07 03:08:37 +0000 2012</td>\n",
       "      <td>True</td>\n",
       "      <td>False</td>\n",
       "      <td>American and proud of it. Old enough to have l...</td>\n",
       "      <td>32666.0</td>\n",
       "      <td>NaN</td>\n",
       "      <td>1249.0</td>\n",
       "      <td>NaN</td>\n",
       "      <td>1214.0</td>\n",
       "      <td>...</td>\n",
       "      <td>333333</td>\n",
       "      <td>True</td>\n",
       "      <td>False</td>\n",
       "      <td>MissBartmirth</td>\n",
       "      <td>35690.0</td>\n",
       "      <td>NaN</td>\n",
       "      <td>none</td>\n",
       "      <td>None</td>\n",
       "      <td>NaN</td>\n",
       "      <td>False</td>\n",
       "    </tr>\n",
       "    <tr>\n",
       "      <th>2</th>\n",
       "      <td>False</td>\n",
       "      <td>Mon Nov 28 03:13:49 +0000 2016</td>\n",
       "      <td>True</td>\n",
       "      <td>False</td>\n",
       "      <td>Designer, Photographer, Naturalist, Citizen Sc...</td>\n",
       "      <td>44821.0</td>\n",
       "      <td>NaN</td>\n",
       "      <td>78.0</td>\n",
       "      <td>NaN</td>\n",
       "      <td>131.0</td>\n",
       "      <td>...</td>\n",
       "      <td>333333</td>\n",
       "      <td>True</td>\n",
       "      <td>False</td>\n",
       "      <td>SNFinVA</td>\n",
       "      <td>18511.0</td>\n",
       "      <td>NaN</td>\n",
       "      <td>none</td>\n",
       "      <td>None</td>\n",
       "      <td>NaN</td>\n",
       "      <td>False</td>\n",
       "    </tr>\n",
       "    <tr>\n",
       "      <th>3</th>\n",
       "      <td>False</td>\n",
       "      <td>Sun Jun 25 18:53:29 +0000 2017</td>\n",
       "      <td>True</td>\n",
       "      <td>False</td>\n",
       "      <td>Let's have some fun.\\nI'll do anything for any...</td>\n",
       "      <td>1438.0</td>\n",
       "      <td>NaN</td>\n",
       "      <td>152.0</td>\n",
       "      <td>NaN</td>\n",
       "      <td>550.0</td>\n",
       "      <td>...</td>\n",
       "      <td>333333</td>\n",
       "      <td>True</td>\n",
       "      <td>False</td>\n",
       "      <td>WilliamScottDe3</td>\n",
       "      <td>4970.0</td>\n",
       "      <td>NaN</td>\n",
       "      <td>none</td>\n",
       "      <td>http://advlawnsurgeons.com</td>\n",
       "      <td>NaN</td>\n",
       "      <td>False</td>\n",
       "    </tr>\n",
       "    <tr>\n",
       "      <th>4</th>\n",
       "      <td>False</td>\n",
       "      <td>Tue Jul 02 19:12:31 +0000 2013</td>\n",
       "      <td>False</td>\n",
       "      <td>False</td>\n",
       "      <td>Husband, Father, Grandfather,   American Patri...</td>\n",
       "      <td>7167.0</td>\n",
       "      <td>NaN</td>\n",
       "      <td>3119.0</td>\n",
       "      <td>NaN</td>\n",
       "      <td>3337.0</td>\n",
       "      <td>...</td>\n",
       "      <td>3C3940</td>\n",
       "      <td>True</td>\n",
       "      <td>False</td>\n",
       "      <td>Tare1935</td>\n",
       "      <td>41375.0</td>\n",
       "      <td>NaN</td>\n",
       "      <td>none</td>\n",
       "      <td>None</td>\n",
       "      <td>NaN</td>\n",
       "      <td>False</td>\n",
       "    </tr>\n",
       "  </tbody>\n",
       "</table>\n",
       "<p>5 rows × 39 columns</p>\n",
       "</div>"
      ],
      "text/plain": [
       "  contributors_enabled                      created_at default_profile  \\\n",
       "0                False  Sun Aug 07 17:26:42 +0000 2011            True   \n",
       "1                False  Wed Nov 07 03:08:37 +0000 2012            True   \n",
       "2                False  Mon Nov 28 03:13:49 +0000 2016            True   \n",
       "3                False  Sun Jun 25 18:53:29 +0000 2017            True   \n",
       "4                False  Tue Jul 02 19:12:31 +0000 2013           False   \n",
       "\n",
       "  default_profile_image                                        description  \\\n",
       "0                 False  Retired insurance executive. Hoping to soon aw...   \n",
       "1                 False  American and proud of it. Old enough to have l...   \n",
       "2                 False  Designer, Photographer, Naturalist, Citizen Sc...   \n",
       "3                 False  Let's have some fun.\\nI'll do anything for any...   \n",
       "4                 False  Husband, Father, Grandfather,   American Patri...   \n",
       "\n",
       "   favourites_count  follow_request_sent  followers_count  following  \\\n",
       "0           62291.0                  NaN            510.0        NaN   \n",
       "1           32666.0                  NaN           1249.0        NaN   \n",
       "2           44821.0                  NaN             78.0        NaN   \n",
       "3            1438.0                  NaN            152.0        NaN   \n",
       "4            7167.0                  NaN           3119.0        NaN   \n",
       "\n",
       "   friends_count   ...    profile_text_color  profile_use_background_image  \\\n",
       "0          182.0   ...                333333                          True   \n",
       "1         1214.0   ...                333333                          True   \n",
       "2          131.0   ...                333333                          True   \n",
       "3          550.0   ...                333333                          True   \n",
       "4         3337.0   ...                3C3940                          True   \n",
       "\n",
       "  protected      screen_name statuses_count  time_zone translator_type  \\\n",
       "0     False        estepjill        38712.0        NaN            none   \n",
       "1     False    MissBartmirth        35690.0        NaN            none   \n",
       "2     False          SNFinVA        18511.0        NaN            none   \n",
       "3     False  WilliamScottDe3         4970.0        NaN            none   \n",
       "4     False         Tare1935        41375.0        NaN            none   \n",
       "\n",
       "                          url  utc_offset verified  \n",
       "0                        None         NaN    False  \n",
       "1                        None         NaN    False  \n",
       "2                        None         NaN    False  \n",
       "3  http://advlawnsurgeons.com         NaN    False  \n",
       "4                        None         NaN    False  \n",
       "\n",
       "[5 rows x 39 columns]"
      ]
     },
     "execution_count": 106,
     "metadata": {},
     "output_type": "execute_result"
    }
   ],
   "source": [
    "#pd.DataFrame([d['user'] for d in tweets_data]) -- didnt work\n",
    "tweet_user = pd.DataFrame([d.get('user',{}) for d in tweets_data])\n",
    "tweet_user.head()"
   ]
  },
  {
   "cell_type": "code",
   "execution_count": 107,
   "metadata": {},
   "outputs": [
    {
     "name": "stdout",
     "output_type": "stream",
     "text": [
      "<class 'pandas.core.frame.DataFrame'>\n",
      "RangeIndex: 2054 entries, 0 to 2053\n",
      "Data columns (total 39 columns):\n",
      "contributors_enabled                  1950 non-null object\n",
      "created_at                            1950 non-null object\n",
      "default_profile                       1950 non-null object\n",
      "default_profile_image                 1950 non-null object\n",
      "description                           1543 non-null object\n",
      "favourites_count                      1950 non-null float64\n",
      "follow_request_sent                   0 non-null float64\n",
      "followers_count                       1950 non-null float64\n",
      "following                             0 non-null float64\n",
      "friends_count                         1950 non-null float64\n",
      "geo_enabled                           1950 non-null object\n",
      "id                                    1950 non-null float64\n",
      "id_str                                1950 non-null object\n",
      "is_translator                         1950 non-null object\n",
      "lang                                  1950 non-null object\n",
      "listed_count                          1950 non-null float64\n",
      "location                              1306 non-null object\n",
      "name                                  1950 non-null object\n",
      "notifications                         0 non-null float64\n",
      "profile_background_color              1950 non-null object\n",
      "profile_background_image_url          1950 non-null object\n",
      "profile_background_image_url_https    1950 non-null object\n",
      "profile_background_tile               1950 non-null object\n",
      "profile_banner_url                    1318 non-null object\n",
      "profile_image_url                     1950 non-null object\n",
      "profile_image_url_https               1950 non-null object\n",
      "profile_link_color                    1950 non-null object\n",
      "profile_sidebar_border_color          1950 non-null object\n",
      "profile_sidebar_fill_color            1950 non-null object\n",
      "profile_text_color                    1950 non-null object\n",
      "profile_use_background_image          1950 non-null object\n",
      "protected                             1950 non-null object\n",
      "screen_name                           1950 non-null object\n",
      "statuses_count                        1950 non-null float64\n",
      "time_zone                             0 non-null float64\n",
      "translator_type                       1950 non-null object\n",
      "url                                   288 non-null object\n",
      "utc_offset                            0 non-null float64\n",
      "verified                              1950 non-null object\n",
      "dtypes: float64(11), object(28)\n",
      "memory usage: 625.9+ KB\n"
     ]
    }
   ],
   "source": [
    "tweet_user.info()"
   ]
  },
  {
   "cell_type": "markdown",
   "metadata": {},
   "source": [
    "# 7. Optional - Original DataFrame that has all the information about tweets and user information are in two different dataframes, so those two DataFrames are merged into one DataFrame, so all the information is accessible at one place."
   ]
  },
  {
   "cell_type": "code",
   "execution_count": 108,
   "metadata": {},
   "outputs": [
    {
     "data": {
      "text/html": [
       "<div>\n",
       "<style scoped>\n",
       "    .dataframe tbody tr th:only-of-type {\n",
       "        vertical-align: middle;\n",
       "    }\n",
       "\n",
       "    .dataframe tbody tr th {\n",
       "        vertical-align: top;\n",
       "    }\n",
       "\n",
       "    .dataframe thead th {\n",
       "        text-align: right;\n",
       "    }\n",
       "</style>\n",
       "<table border=\"1\" class=\"dataframe\">\n",
       "  <thead>\n",
       "    <tr style=\"text-align: right;\">\n",
       "      <th></th>\n",
       "      <th>contributors</th>\n",
       "      <th>coordinates</th>\n",
       "      <th>created_at_x</th>\n",
       "      <th>display_text_range</th>\n",
       "      <th>entities</th>\n",
       "      <th>extended_entities</th>\n",
       "      <th>extended_tweet</th>\n",
       "      <th>favorite_count</th>\n",
       "      <th>favorited</th>\n",
       "      <th>filter_level</th>\n",
       "      <th>...</th>\n",
       "      <th>profile_text_color</th>\n",
       "      <th>profile_use_background_image</th>\n",
       "      <th>protected</th>\n",
       "      <th>screen_name</th>\n",
       "      <th>statuses_count</th>\n",
       "      <th>time_zone</th>\n",
       "      <th>translator_type</th>\n",
       "      <th>url</th>\n",
       "      <th>utc_offset</th>\n",
       "      <th>verified</th>\n",
       "    </tr>\n",
       "  </thead>\n",
       "  <tbody>\n",
       "    <tr>\n",
       "      <th>0</th>\n",
       "      <td>NaN</td>\n",
       "      <td>None</td>\n",
       "      <td>Fri Jun 15 23:43:00 +0000 2018</td>\n",
       "      <td>[30, 77]</td>\n",
       "      <td>{'hashtags': [], 'urls': [], 'user_mentions': ...</td>\n",
       "      <td>NaN</td>\n",
       "      <td>NaN</td>\n",
       "      <td>0.0</td>\n",
       "      <td>False</td>\n",
       "      <td>low</td>\n",
       "      <td>...</td>\n",
       "      <td>333333</td>\n",
       "      <td>True</td>\n",
       "      <td>False</td>\n",
       "      <td>estepjill</td>\n",
       "      <td>38712.0</td>\n",
       "      <td>NaN</td>\n",
       "      <td>none</td>\n",
       "      <td>None</td>\n",
       "      <td>NaN</td>\n",
       "      <td>False</td>\n",
       "    </tr>\n",
       "    <tr>\n",
       "      <th>1</th>\n",
       "      <td>NaN</td>\n",
       "      <td>None</td>\n",
       "      <td>Fri Jun 15 23:43:00 +0000 2018</td>\n",
       "      <td>NaN</td>\n",
       "      <td>{'hashtags': [], 'urls': [{'url': 'https://t.c...</td>\n",
       "      <td>NaN</td>\n",
       "      <td>{'full_text': '2 months ago Kathy Griffin was ...</td>\n",
       "      <td>0.0</td>\n",
       "      <td>False</td>\n",
       "      <td>low</td>\n",
       "      <td>...</td>\n",
       "      <td>333333</td>\n",
       "      <td>True</td>\n",
       "      <td>False</td>\n",
       "      <td>MissBartmirth</td>\n",
       "      <td>35690.0</td>\n",
       "      <td>NaN</td>\n",
       "      <td>none</td>\n",
       "      <td>None</td>\n",
       "      <td>NaN</td>\n",
       "      <td>False</td>\n",
       "    </tr>\n",
       "    <tr>\n",
       "      <th>2</th>\n",
       "      <td>NaN</td>\n",
       "      <td>None</td>\n",
       "      <td>Fri Jun 15 23:43:00 +0000 2018</td>\n",
       "      <td>NaN</td>\n",
       "      <td>{'hashtags': [], 'urls': [], 'user_mentions': ...</td>\n",
       "      <td>NaN</td>\n",
       "      <td>NaN</td>\n",
       "      <td>0.0</td>\n",
       "      <td>False</td>\n",
       "      <td>low</td>\n",
       "      <td>...</td>\n",
       "      <td>333333</td>\n",
       "      <td>True</td>\n",
       "      <td>False</td>\n",
       "      <td>SNFinVA</td>\n",
       "      <td>18511.0</td>\n",
       "      <td>NaN</td>\n",
       "      <td>none</td>\n",
       "      <td>None</td>\n",
       "      <td>NaN</td>\n",
       "      <td>False</td>\n",
       "    </tr>\n",
       "    <tr>\n",
       "      <th>3</th>\n",
       "      <td>NaN</td>\n",
       "      <td>None</td>\n",
       "      <td>Fri Jun 15 23:43:00 +0000 2018</td>\n",
       "      <td>NaN</td>\n",
       "      <td>{'hashtags': [], 'urls': [], 'user_mentions': ...</td>\n",
       "      <td>NaN</td>\n",
       "      <td>NaN</td>\n",
       "      <td>0.0</td>\n",
       "      <td>False</td>\n",
       "      <td>low</td>\n",
       "      <td>...</td>\n",
       "      <td>333333</td>\n",
       "      <td>True</td>\n",
       "      <td>False</td>\n",
       "      <td>WilliamScottDe3</td>\n",
       "      <td>4970.0</td>\n",
       "      <td>NaN</td>\n",
       "      <td>none</td>\n",
       "      <td>http://advlawnsurgeons.com</td>\n",
       "      <td>NaN</td>\n",
       "      <td>False</td>\n",
       "    </tr>\n",
       "    <tr>\n",
       "      <th>4</th>\n",
       "      <td>NaN</td>\n",
       "      <td>None</td>\n",
       "      <td>Fri Jun 15 23:43:00 +0000 2018</td>\n",
       "      <td>NaN</td>\n",
       "      <td>{'hashtags': [], 'urls': [], 'user_mentions': ...</td>\n",
       "      <td>NaN</td>\n",
       "      <td>NaN</td>\n",
       "      <td>0.0</td>\n",
       "      <td>False</td>\n",
       "      <td>low</td>\n",
       "      <td>...</td>\n",
       "      <td>3C3940</td>\n",
       "      <td>True</td>\n",
       "      <td>False</td>\n",
       "      <td>Tare1935</td>\n",
       "      <td>41375.0</td>\n",
       "      <td>NaN</td>\n",
       "      <td>none</td>\n",
       "      <td>None</td>\n",
       "      <td>NaN</td>\n",
       "      <td>False</td>\n",
       "    </tr>\n",
       "  </tbody>\n",
       "</table>\n",
       "<p>5 rows × 77 columns</p>\n",
       "</div>"
      ],
      "text/plain": [
       "   contributors coordinates                    created_at_x  \\\n",
       "0           NaN        None  Fri Jun 15 23:43:00 +0000 2018   \n",
       "1           NaN        None  Fri Jun 15 23:43:00 +0000 2018   \n",
       "2           NaN        None  Fri Jun 15 23:43:00 +0000 2018   \n",
       "3           NaN        None  Fri Jun 15 23:43:00 +0000 2018   \n",
       "4           NaN        None  Fri Jun 15 23:43:00 +0000 2018   \n",
       "\n",
       "  display_text_range                                           entities  \\\n",
       "0           [30, 77]  {'hashtags': [], 'urls': [], 'user_mentions': ...   \n",
       "1                NaN  {'hashtags': [], 'urls': [{'url': 'https://t.c...   \n",
       "2                NaN  {'hashtags': [], 'urls': [], 'user_mentions': ...   \n",
       "3                NaN  {'hashtags': [], 'urls': [], 'user_mentions': ...   \n",
       "4                NaN  {'hashtags': [], 'urls': [], 'user_mentions': ...   \n",
       "\n",
       "  extended_entities                                     extended_tweet  \\\n",
       "0               NaN                                                NaN   \n",
       "1               NaN  {'full_text': '2 months ago Kathy Griffin was ...   \n",
       "2               NaN                                                NaN   \n",
       "3               NaN                                                NaN   \n",
       "4               NaN                                                NaN   \n",
       "\n",
       "   favorite_count favorited filter_level   ...    profile_text_color  \\\n",
       "0             0.0     False          low   ...                333333   \n",
       "1             0.0     False          low   ...                333333   \n",
       "2             0.0     False          low   ...                333333   \n",
       "3             0.0     False          low   ...                333333   \n",
       "4             0.0     False          low   ...                3C3940   \n",
       "\n",
       "   profile_use_background_image protected      screen_name  statuses_count  \\\n",
       "0                          True     False        estepjill         38712.0   \n",
       "1                          True     False    MissBartmirth         35690.0   \n",
       "2                          True     False          SNFinVA         18511.0   \n",
       "3                          True     False  WilliamScottDe3          4970.0   \n",
       "4                          True     False         Tare1935         41375.0   \n",
       "\n",
       "  time_zone  translator_type                         url utc_offset verified  \n",
       "0       NaN             none                        None        NaN    False  \n",
       "1       NaN             none                        None        NaN    False  \n",
       "2       NaN             none                        None        NaN    False  \n",
       "3       NaN             none  http://advlawnsurgeons.com        NaN    False  \n",
       "4       NaN             none                        None        NaN    False  \n",
       "\n",
       "[5 rows x 77 columns]"
      ]
     },
     "execution_count": 108,
     "metadata": {},
     "output_type": "execute_result"
    }
   ],
   "source": [
    "df = tweet_df.merge(tweet_user, left_index = True, right_index = True)\n",
    "df.head()"
   ]
  },
  {
   "cell_type": "code",
   "execution_count": 12,
   "metadata": {
    "scrolled": false
   },
   "outputs": [
    {
     "name": "stdout",
     "output_type": "stream",
     "text": [
      "<class 'pandas.core.frame.DataFrame'>\n",
      "RangeIndex: 2054 entries, 0 to 2053\n",
      "Data columns (total 77 columns):\n",
      "contributors                          0 non-null float64\n",
      "coordinates                           1 non-null object\n",
      "created_at_x                          1950 non-null object\n",
      "display_text_range                    396 non-null object\n",
      "entities                              1950 non-null object\n",
      "extended_entities                     64 non-null object\n",
      "extended_tweet                        209 non-null object\n",
      "favorite_count                        1950 non-null float64\n",
      "favorited                             1950 non-null object\n",
      "filter_level                          1950 non-null object\n",
      "geo                                   1 non-null object\n",
      "id_x                                  1950 non-null float64\n",
      "id_str_x                              1950 non-null object\n",
      "in_reply_to_screen_name               308 non-null object\n",
      "in_reply_to_status_id                 284 non-null float64\n",
      "in_reply_to_status_id_str             284 non-null object\n",
      "in_reply_to_user_id                   308 non-null float64\n",
      "in_reply_to_user_id_str               308 non-null object\n",
      "is_quote_status                       1950 non-null object\n",
      "lang_x                                1950 non-null object\n",
      "limit                                 104 non-null object\n",
      "place                                 21 non-null object\n",
      "possibly_sensitive                    434 non-null object\n",
      "quote_count                           1950 non-null float64\n",
      "quoted_status                         444 non-null object\n",
      "quoted_status_id                      444 non-null float64\n",
      "quoted_status_id_str                  444 non-null object\n",
      "quoted_status_permalink               444 non-null object\n",
      "reply_count                           1950 non-null float64\n",
      "retweet_count                         1950 non-null float64\n",
      "retweeted                             1950 non-null object\n",
      "retweeted_status                      1458 non-null object\n",
      "source                                1950 non-null object\n",
      "text                                  1950 non-null object\n",
      "timestamp_ms                          1950 non-null object\n",
      "truncated                             1950 non-null object\n",
      "user                                  1950 non-null object\n",
      "withheld_in_countries                 4 non-null object\n",
      "contributors_enabled                  1950 non-null object\n",
      "created_at_y                          1950 non-null object\n",
      "default_profile                       1950 non-null object\n",
      "default_profile_image                 1950 non-null object\n",
      "description                           1543 non-null object\n",
      "favourites_count                      1950 non-null float64\n",
      "follow_request_sent                   0 non-null float64\n",
      "followers_count                       1950 non-null float64\n",
      "following                             0 non-null float64\n",
      "friends_count                         1950 non-null float64\n",
      "geo_enabled                           1950 non-null object\n",
      "id_y                                  1950 non-null float64\n",
      "id_str_y                              1950 non-null object\n",
      "is_translator                         1950 non-null object\n",
      "lang_y                                1950 non-null object\n",
      "listed_count                          1950 non-null float64\n",
      "location                              1306 non-null object\n",
      "name                                  1950 non-null object\n",
      "notifications                         0 non-null float64\n",
      "profile_background_color              1950 non-null object\n",
      "profile_background_image_url          1950 non-null object\n",
      "profile_background_image_url_https    1950 non-null object\n",
      "profile_background_tile               1950 non-null object\n",
      "profile_banner_url                    1318 non-null object\n",
      "profile_image_url                     1950 non-null object\n",
      "profile_image_url_https               1950 non-null object\n",
      "profile_link_color                    1950 non-null object\n",
      "profile_sidebar_border_color          1950 non-null object\n",
      "profile_sidebar_fill_color            1950 non-null object\n",
      "profile_text_color                    1950 non-null object\n",
      "profile_use_background_image          1950 non-null object\n",
      "protected                             1950 non-null object\n",
      "screen_name                           1950 non-null object\n",
      "statuses_count                        1950 non-null float64\n",
      "time_zone                             0 non-null float64\n",
      "translator_type                       1950 non-null object\n",
      "url                                   288 non-null object\n",
      "utc_offset                            0 non-null float64\n",
      "verified                              1950 non-null object\n",
      "dtypes: float64(20), object(57)\n",
      "memory usage: 1.2+ MB\n"
     ]
    }
   ],
   "source": [
    "df.info()"
   ]
  },
  {
   "cell_type": "code",
   "execution_count": 13,
   "metadata": {},
   "outputs": [
    {
     "data": {
      "text/html": [
       "<div>\n",
       "<style scoped>\n",
       "    .dataframe tbody tr th:only-of-type {\n",
       "        vertical-align: middle;\n",
       "    }\n",
       "\n",
       "    .dataframe tbody tr th {\n",
       "        vertical-align: top;\n",
       "    }\n",
       "\n",
       "    .dataframe thead th {\n",
       "        text-align: right;\n",
       "    }\n",
       "</style>\n",
       "<table border=\"1\" class=\"dataframe\">\n",
       "  <thead>\n",
       "    <tr style=\"text-align: right;\">\n",
       "      <th></th>\n",
       "      <th>contributors</th>\n",
       "      <th>coordinates</th>\n",
       "      <th>created_at_x</th>\n",
       "      <th>display_text_range</th>\n",
       "      <th>entities</th>\n",
       "      <th>extended_entities</th>\n",
       "      <th>extended_tweet</th>\n",
       "      <th>favorite_count</th>\n",
       "      <th>favorited</th>\n",
       "      <th>filter_level</th>\n",
       "      <th>...</th>\n",
       "      <th>profile_text_color</th>\n",
       "      <th>profile_use_background_image</th>\n",
       "      <th>protected</th>\n",
       "      <th>screen_name</th>\n",
       "      <th>statuses_count</th>\n",
       "      <th>time_zone</th>\n",
       "      <th>translator_type</th>\n",
       "      <th>url</th>\n",
       "      <th>utc_offset</th>\n",
       "      <th>verified</th>\n",
       "    </tr>\n",
       "  </thead>\n",
       "  <tbody>\n",
       "    <tr>\n",
       "      <th>0</th>\n",
       "      <td>NaN</td>\n",
       "      <td>None</td>\n",
       "      <td>Fri Jun 15 23:43:00 +0000 2018</td>\n",
       "      <td>[30, 77]</td>\n",
       "      <td>{'hashtags': [], 'urls': [], 'user_mentions': ...</td>\n",
       "      <td>NaN</td>\n",
       "      <td>NaN</td>\n",
       "      <td>0.0</td>\n",
       "      <td>False</td>\n",
       "      <td>low</td>\n",
       "      <td>...</td>\n",
       "      <td>333333</td>\n",
       "      <td>True</td>\n",
       "      <td>False</td>\n",
       "      <td>estepjill</td>\n",
       "      <td>38712.0</td>\n",
       "      <td>NaN</td>\n",
       "      <td>none</td>\n",
       "      <td>None</td>\n",
       "      <td>NaN</td>\n",
       "      <td>False</td>\n",
       "    </tr>\n",
       "    <tr>\n",
       "      <th>1</th>\n",
       "      <td>NaN</td>\n",
       "      <td>None</td>\n",
       "      <td>Fri Jun 15 23:43:00 +0000 2018</td>\n",
       "      <td>NaN</td>\n",
       "      <td>{'hashtags': [], 'urls': [{'url': 'https://t.c...</td>\n",
       "      <td>NaN</td>\n",
       "      <td>{'full_text': '2 months ago Kathy Griffin was ...</td>\n",
       "      <td>0.0</td>\n",
       "      <td>False</td>\n",
       "      <td>low</td>\n",
       "      <td>...</td>\n",
       "      <td>333333</td>\n",
       "      <td>True</td>\n",
       "      <td>False</td>\n",
       "      <td>MissBartmirth</td>\n",
       "      <td>35690.0</td>\n",
       "      <td>NaN</td>\n",
       "      <td>none</td>\n",
       "      <td>None</td>\n",
       "      <td>NaN</td>\n",
       "      <td>False</td>\n",
       "    </tr>\n",
       "    <tr>\n",
       "      <th>2</th>\n",
       "      <td>NaN</td>\n",
       "      <td>None</td>\n",
       "      <td>Fri Jun 15 23:43:00 +0000 2018</td>\n",
       "      <td>NaN</td>\n",
       "      <td>{'hashtags': [], 'urls': [], 'user_mentions': ...</td>\n",
       "      <td>NaN</td>\n",
       "      <td>NaN</td>\n",
       "      <td>0.0</td>\n",
       "      <td>False</td>\n",
       "      <td>low</td>\n",
       "      <td>...</td>\n",
       "      <td>333333</td>\n",
       "      <td>True</td>\n",
       "      <td>False</td>\n",
       "      <td>SNFinVA</td>\n",
       "      <td>18511.0</td>\n",
       "      <td>NaN</td>\n",
       "      <td>none</td>\n",
       "      <td>None</td>\n",
       "      <td>NaN</td>\n",
       "      <td>False</td>\n",
       "    </tr>\n",
       "    <tr>\n",
       "      <th>3</th>\n",
       "      <td>NaN</td>\n",
       "      <td>None</td>\n",
       "      <td>Fri Jun 15 23:43:00 +0000 2018</td>\n",
       "      <td>NaN</td>\n",
       "      <td>{'hashtags': [], 'urls': [], 'user_mentions': ...</td>\n",
       "      <td>NaN</td>\n",
       "      <td>NaN</td>\n",
       "      <td>0.0</td>\n",
       "      <td>False</td>\n",
       "      <td>low</td>\n",
       "      <td>...</td>\n",
       "      <td>333333</td>\n",
       "      <td>True</td>\n",
       "      <td>False</td>\n",
       "      <td>WilliamScottDe3</td>\n",
       "      <td>4970.0</td>\n",
       "      <td>NaN</td>\n",
       "      <td>none</td>\n",
       "      <td>http://advlawnsurgeons.com</td>\n",
       "      <td>NaN</td>\n",
       "      <td>False</td>\n",
       "    </tr>\n",
       "    <tr>\n",
       "      <th>4</th>\n",
       "      <td>NaN</td>\n",
       "      <td>None</td>\n",
       "      <td>Fri Jun 15 23:43:00 +0000 2018</td>\n",
       "      <td>NaN</td>\n",
       "      <td>{'hashtags': [], 'urls': [], 'user_mentions': ...</td>\n",
       "      <td>NaN</td>\n",
       "      <td>NaN</td>\n",
       "      <td>0.0</td>\n",
       "      <td>False</td>\n",
       "      <td>low</td>\n",
       "      <td>...</td>\n",
       "      <td>3C3940</td>\n",
       "      <td>True</td>\n",
       "      <td>False</td>\n",
       "      <td>Tare1935</td>\n",
       "      <td>41375.0</td>\n",
       "      <td>NaN</td>\n",
       "      <td>none</td>\n",
       "      <td>None</td>\n",
       "      <td>NaN</td>\n",
       "      <td>False</td>\n",
       "    </tr>\n",
       "  </tbody>\n",
       "</table>\n",
       "<p>5 rows × 77 columns</p>\n",
       "</div>"
      ],
      "text/plain": [
       "   contributors coordinates                    created_at_x  \\\n",
       "0           NaN        None  Fri Jun 15 23:43:00 +0000 2018   \n",
       "1           NaN        None  Fri Jun 15 23:43:00 +0000 2018   \n",
       "2           NaN        None  Fri Jun 15 23:43:00 +0000 2018   \n",
       "3           NaN        None  Fri Jun 15 23:43:00 +0000 2018   \n",
       "4           NaN        None  Fri Jun 15 23:43:00 +0000 2018   \n",
       "\n",
       "  display_text_range                                           entities  \\\n",
       "0           [30, 77]  {'hashtags': [], 'urls': [], 'user_mentions': ...   \n",
       "1                NaN  {'hashtags': [], 'urls': [{'url': 'https://t.c...   \n",
       "2                NaN  {'hashtags': [], 'urls': [], 'user_mentions': ...   \n",
       "3                NaN  {'hashtags': [], 'urls': [], 'user_mentions': ...   \n",
       "4                NaN  {'hashtags': [], 'urls': [], 'user_mentions': ...   \n",
       "\n",
       "  extended_entities                                     extended_tweet  \\\n",
       "0               NaN                                                NaN   \n",
       "1               NaN  {'full_text': '2 months ago Kathy Griffin was ...   \n",
       "2               NaN                                                NaN   \n",
       "3               NaN                                                NaN   \n",
       "4               NaN                                                NaN   \n",
       "\n",
       "   favorite_count favorited filter_level   ...    profile_text_color  \\\n",
       "0             0.0     False          low   ...                333333   \n",
       "1             0.0     False          low   ...                333333   \n",
       "2             0.0     False          low   ...                333333   \n",
       "3             0.0     False          low   ...                333333   \n",
       "4             0.0     False          low   ...                3C3940   \n",
       "\n",
       "   profile_use_background_image protected      screen_name  statuses_count  \\\n",
       "0                          True     False        estepjill         38712.0   \n",
       "1                          True     False    MissBartmirth         35690.0   \n",
       "2                          True     False          SNFinVA         18511.0   \n",
       "3                          True     False  WilliamScottDe3          4970.0   \n",
       "4                          True     False         Tare1935         41375.0   \n",
       "\n",
       "  time_zone  translator_type                         url utc_offset verified  \n",
       "0       NaN             none                        None        NaN    False  \n",
       "1       NaN             none                        None        NaN    False  \n",
       "2       NaN             none                        None        NaN    False  \n",
       "3       NaN             none  http://advlawnsurgeons.com        NaN    False  \n",
       "4       NaN             none                        None        NaN    False  \n",
       "\n",
       "[5 rows x 77 columns]"
      ]
     },
     "execution_count": 13,
     "metadata": {},
     "output_type": "execute_result"
    }
   ],
   "source": [
    "#pd.set_option('display.max_columns', None)\n",
    "df.head()"
   ]
  },
  {
   "cell_type": "code",
   "execution_count": 14,
   "metadata": {
    "scrolled": true
   },
   "outputs": [
    {
     "data": {
      "text/plain": [
       "0                                                  NaN\n",
       "1                                                  NaN\n",
       "2    {'created_at': 'Fri Jun 15 01:53:07 +0000 2018...\n",
       "3    {'created_at': 'Fri Jun 15 17:53:31 +0000 2018...\n",
       "4    {'created_at': 'Fri Jun 15 22:02:11 +0000 2018...\n",
       "Name: retweeted_status, dtype: object"
      ]
     },
     "execution_count": 14,
     "metadata": {},
     "output_type": "execute_result"
    }
   ],
   "source": [
    "df.retweeted_status.head()"
   ]
  },
  {
   "cell_type": "markdown",
   "metadata": {},
   "source": [
    "# Plot below can be made better by consolidating duplicate locations into one. For instance, Los Angeles, shows up twice because one has CA in it and the other one does not. But the focus of this project is not to consolidate duplicate locations because that would have to be a separate project. There are more locations, but only top 30 locations are being shown.\n",
    "# The plot shows which locations are talking the most or tweeting the most about Donald Trump. Based on the below plot, most people are talking about Donald Trump in the US and after that Canada is the second country that is tweeting the most about Donald Trump.\n"
   ]
  },
  {
   "cell_type": "code",
   "execution_count": 15,
   "metadata": {},
   "outputs": [
    {
     "data": {
      "text/plain": [
       "<matplotlib.axes._subplots.AxesSubplot at 0x22d437827f0>"
      ]
     },
     "execution_count": 15,
     "metadata": {},
     "output_type": "execute_result"
    },
    {
     "data": {
      "image/png": "[encoded data removed]",
      "text/plain": [
       "<matplotlib.figure.Figure at 0x22d40329c50>"
      ]
     },
     "metadata": {},
     "output_type": "display_data"
    }
   ],
   "source": [
    "df.location.value_counts().head(30).plot(kind='bar', figsize = (18,12))"
   ]
  },
  {
   "cell_type": "markdown",
   "metadata": {},
   "source": [
    "# Below plot shows different applications that were used to send tweets. And depending on the device that is being used, it can be determined what smart phone devices are used the most. \"Twitter for iPhone\" and \"Twitter for Android\" are the top two applications that appear which tells that Apple's iPhone and different Android devices were used to send these tweets. \n",
    "\n",
    "# There are more unique applications that were used to send tweets, but only top 10 applications are being shown."
   ]
  },
  {
   "cell_type": "code",
   "execution_count": 16,
   "metadata": {},
   "outputs": [],
   "source": [
    "df.source.fillna(\">NA</a>\", inplace = True)"
   ]
  },
  {
   "cell_type": "code",
   "execution_count": 17,
   "metadata": {},
   "outputs": [],
   "source": [
    "df['source'] = list(map(lambda a: a.split(\">\")[1][:-3], df['source']))"
   ]
  },
  {
   "cell_type": "code",
   "execution_count": 18,
   "metadata": {},
   "outputs": [
    {
     "data": {
      "text/plain": [
       "<matplotlib.axes._subplots.AxesSubplot at 0x22d4276fdd8>"
      ]
     },
     "execution_count": 18,
     "metadata": {},
     "output_type": "execute_result"
    },
    {
     "data": {
      "image/png": "[encoded data removed]",
      "text/plain": [
       "<matplotlib.figure.Figure at 0x22d438c0cf8>"
      ]
     },
     "metadata": {},
     "output_type": "display_data"
    }
   ],
   "source": [
    "df.source.value_counts().head(10).plot(kind='barh', figsize = (18,12)) # horizontal\n",
    "#df.source.value_counts().plot(kind='bar', figsize = (60,40)) # vertical"
   ]
  },
  {
   "cell_type": "markdown",
   "metadata": {},
   "source": [
    "# 9 - Getting full text for tweets. Tweet that is in text column is truncated."
   ]
  },
  {
   "cell_type": "code",
   "execution_count": 19,
   "metadata": {},
   "outputs": [
    {
     "data": {
      "text/plain": [
       "\"@SenWarren @realDonaldTrump They are the barbaric ones for exposing their children to this. This many people aren't… https://t.co/UEmhUz0oH2\""
      ]
     },
     "execution_count": 19,
     "metadata": {},
     "output_type": "execute_result"
    }
   ],
   "source": [
    "df.text[12]"
   ]
  },
  {
   "cell_type": "markdown",
   "metadata": {},
   "source": [
    "# The above shows how the text of the tweet is cut off. \n",
    "\n",
    "# Below shows the full text of the tweet."
   ]
  },
  {
   "cell_type": "code",
   "execution_count": 20,
   "metadata": {},
   "outputs": [
    {
     "data": {
      "text/plain": [
       "{'full_text': \"@SenWarren @realDonaldTrump They are the barbaric ones for exposing their children to this. This many people aren't fleeing domestic abuse. We can't let them break our laws. This is the best way to enforce them. At least we are taking care of them.\",\n",
       " 'display_text_range': [28, 248],\n",
       " 'entities': {'hashtags': [],\n",
       "  'urls': [],\n",
       "  'user_mentions': [{'screen_name': 'SenWarren',\n",
       "    'name': 'Elizabeth Warren',\n",
       "    'id': 970207298,\n",
       "    'id_str': '970207298',\n",
       "    'indices': [0, 10]},\n",
       "   {'screen_name': 'realDonaldTrump',\n",
       "    'name': 'Donald J. Trump',\n",
       "    'id': 25073877,\n",
       "    'id_str': '25073877',\n",
       "    'indices': [11, 27]}],\n",
       "  'symbols': []}}"
      ]
     },
     "execution_count": 20,
     "metadata": {},
     "output_type": "execute_result"
    }
   ],
   "source": [
    "df.extended_tweet[12]"
   ]
  },
  {
   "cell_type": "markdown",
   "metadata": {},
   "source": [
    "# Above full text of the tweet is in the form of dictionary, so \"full_text\" will be extracted from it because rest of the information fields are not necessary, but missing values will have to be dropped first from \"extended_tweet\".\n",
    "# Back in September 2017, twitter extended the range from 140 to 280 characters, which is why there is a new feature called \"extended_tweets\" which also has \"full_text\", and that is where the full tweets are."
   ]
  },
  {
   "cell_type": "markdown",
   "metadata": {},
   "source": [
    "### Drop missing values"
   ]
  },
  {
   "cell_type": "code",
   "execution_count": 21,
   "metadata": {},
   "outputs": [
    {
     "data": {
      "text/plain": [
       "array([1845], dtype=int64)"
      ]
     },
     "execution_count": 21,
     "metadata": {},
     "output_type": "execute_result"
    }
   ],
   "source": [
    "df.extended_tweet.isnull().sum()[df.extended_tweet.isnull().sum()>0]"
   ]
  },
  {
   "cell_type": "code",
   "execution_count": 22,
   "metadata": {},
   "outputs": [
    {
     "data": {
      "text/html": [
       "<div>\n",
       "<style scoped>\n",
       "    .dataframe tbody tr th:only-of-type {\n",
       "        vertical-align: middle;\n",
       "    }\n",
       "\n",
       "    .dataframe tbody tr th {\n",
       "        vertical-align: top;\n",
       "    }\n",
       "\n",
       "    .dataframe thead th {\n",
       "        text-align: right;\n",
       "    }\n",
       "</style>\n",
       "<table border=\"1\" class=\"dataframe\">\n",
       "  <thead>\n",
       "    <tr style=\"text-align: right;\">\n",
       "      <th></th>\n",
       "      <th>contributors</th>\n",
       "      <th>coordinates</th>\n",
       "      <th>created_at_x</th>\n",
       "      <th>display_text_range</th>\n",
       "      <th>entities</th>\n",
       "      <th>extended_entities</th>\n",
       "      <th>extended_tweet</th>\n",
       "      <th>favorite_count</th>\n",
       "      <th>favorited</th>\n",
       "      <th>filter_level</th>\n",
       "      <th>...</th>\n",
       "      <th>profile_text_color</th>\n",
       "      <th>profile_use_background_image</th>\n",
       "      <th>protected</th>\n",
       "      <th>screen_name</th>\n",
       "      <th>statuses_count</th>\n",
       "      <th>time_zone</th>\n",
       "      <th>translator_type</th>\n",
       "      <th>url</th>\n",
       "      <th>utc_offset</th>\n",
       "      <th>verified</th>\n",
       "    </tr>\n",
       "  </thead>\n",
       "  <tbody>\n",
       "    <tr>\n",
       "      <th>0</th>\n",
       "      <td>NaN</td>\n",
       "      <td>None</td>\n",
       "      <td>Fri Jun 15 23:43:00 +0000 2018</td>\n",
       "      <td>NaN</td>\n",
       "      <td>{'hashtags': [], 'urls': [{'url': 'https://t.c...</td>\n",
       "      <td>NaN</td>\n",
       "      <td>{'full_text': '2 months ago Kathy Griffin was ...</td>\n",
       "      <td>0.0</td>\n",
       "      <td>False</td>\n",
       "      <td>low</td>\n",
       "      <td>...</td>\n",
       "      <td>333333</td>\n",
       "      <td>True</td>\n",
       "      <td>False</td>\n",
       "      <td>MissBartmirth</td>\n",
       "      <td>35690.0</td>\n",
       "      <td>NaN</td>\n",
       "      <td>none</td>\n",
       "      <td>None</td>\n",
       "      <td>NaN</td>\n",
       "      <td>False</td>\n",
       "    </tr>\n",
       "    <tr>\n",
       "      <th>1</th>\n",
       "      <td>NaN</td>\n",
       "      <td>None</td>\n",
       "      <td>Fri Jun 15 23:43:01 +0000 2018</td>\n",
       "      <td>[28, 140]</td>\n",
       "      <td>{'hashtags': [], 'urls': [{'url': 'https://t.c...</td>\n",
       "      <td>NaN</td>\n",
       "      <td>{'full_text': '@SenWarren @realDonaldTrump The...</td>\n",
       "      <td>0.0</td>\n",
       "      <td>False</td>\n",
       "      <td>low</td>\n",
       "      <td>...</td>\n",
       "      <td>333333</td>\n",
       "      <td>True</td>\n",
       "      <td>False</td>\n",
       "      <td>realist_of</td>\n",
       "      <td>14.0</td>\n",
       "      <td>NaN</td>\n",
       "      <td>none</td>\n",
       "      <td>https://www.binance.com/?ref=15212816</td>\n",
       "      <td>NaN</td>\n",
       "      <td>False</td>\n",
       "    </tr>\n",
       "    <tr>\n",
       "      <th>2</th>\n",
       "      <td>NaN</td>\n",
       "      <td>None</td>\n",
       "      <td>Fri Jun 15 23:43:01 +0000 2018</td>\n",
       "      <td>[0, 140]</td>\n",
       "      <td>{'hashtags': [], 'urls': [{'url': 'https://t.c...</td>\n",
       "      <td>NaN</td>\n",
       "      <td>{'full_text': 'If we had any balls, and weren'...</td>\n",
       "      <td>0.0</td>\n",
       "      <td>False</td>\n",
       "      <td>low</td>\n",
       "      <td>...</td>\n",
       "      <td>333333</td>\n",
       "      <td>True</td>\n",
       "      <td>False</td>\n",
       "      <td>WeAreAllEarth</td>\n",
       "      <td>55974.0</td>\n",
       "      <td>NaN</td>\n",
       "      <td>none</td>\n",
       "      <td>None</td>\n",
       "      <td>NaN</td>\n",
       "      <td>False</td>\n",
       "    </tr>\n",
       "    <tr>\n",
       "      <th>3</th>\n",
       "      <td>NaN</td>\n",
       "      <td>None</td>\n",
       "      <td>Fri Jun 15 23:43:00 +0000 2018</td>\n",
       "      <td>[0, 140]</td>\n",
       "      <td>{'hashtags': [{'text': 'maga', 'indices': [31,...</td>\n",
       "      <td>NaN</td>\n",
       "      <td>{'full_text': 'Manaforts daughter’s comments \n",
       "...</td>\n",
       "      <td>0.0</td>\n",
       "      <td>False</td>\n",
       "      <td>low</td>\n",
       "      <td>...</td>\n",
       "      <td>333333</td>\n",
       "      <td>True</td>\n",
       "      <td>False</td>\n",
       "      <td>eastwardenigma</td>\n",
       "      <td>9.0</td>\n",
       "      <td>NaN</td>\n",
       "      <td>none</td>\n",
       "      <td>None</td>\n",
       "      <td>NaN</td>\n",
       "      <td>False</td>\n",
       "    </tr>\n",
       "    <tr>\n",
       "      <th>4</th>\n",
       "      <td>NaN</td>\n",
       "      <td>None</td>\n",
       "      <td>Fri Jun 15 23:43:02 +0000 2018</td>\n",
       "      <td>[0, 140]</td>\n",
       "      <td>{'hashtags': [], 'urls': [{'url': 'https://t.c...</td>\n",
       "      <td>NaN</td>\n",
       "      <td>{'full_text': '@GOP Trump is playing all of yo...</td>\n",
       "      <td>0.0</td>\n",
       "      <td>False</td>\n",
       "      <td>low</td>\n",
       "      <td>...</td>\n",
       "      <td>000000</td>\n",
       "      <td>False</td>\n",
       "      <td>False</td>\n",
       "      <td>FredraKodama</td>\n",
       "      <td>22238.0</td>\n",
       "      <td>NaN</td>\n",
       "      <td>none</td>\n",
       "      <td>http://www.myspace.com/fredrakodama</td>\n",
       "      <td>NaN</td>\n",
       "      <td>False</td>\n",
       "    </tr>\n",
       "  </tbody>\n",
       "</table>\n",
       "<p>5 rows × 77 columns</p>\n",
       "</div>"
      ],
      "text/plain": [
       "   contributors coordinates                    created_at_x  \\\n",
       "0           NaN        None  Fri Jun 15 23:43:00 +0000 2018   \n",
       "1           NaN        None  Fri Jun 15 23:43:01 +0000 2018   \n",
       "2           NaN        None  Fri Jun 15 23:43:01 +0000 2018   \n",
       "3           NaN        None  Fri Jun 15 23:43:00 +0000 2018   \n",
       "4           NaN        None  Fri Jun 15 23:43:02 +0000 2018   \n",
       "\n",
       "  display_text_range                                           entities  \\\n",
       "0                NaN  {'hashtags': [], 'urls': [{'url': 'https://t.c...   \n",
       "1          [28, 140]  {'hashtags': [], 'urls': [{'url': 'https://t.c...   \n",
       "2           [0, 140]  {'hashtags': [], 'urls': [{'url': 'https://t.c...   \n",
       "3           [0, 140]  {'hashtags': [{'text': 'maga', 'indices': [31,...   \n",
       "4           [0, 140]  {'hashtags': [], 'urls': [{'url': 'https://t.c...   \n",
       "\n",
       "  extended_entities                                     extended_tweet  \\\n",
       "0               NaN  {'full_text': '2 months ago Kathy Griffin was ...   \n",
       "1               NaN  {'full_text': '@SenWarren @realDonaldTrump The...   \n",
       "2               NaN  {'full_text': 'If we had any balls, and weren'...   \n",
       "3               NaN  {'full_text': 'Manaforts daughter’s comments \n",
       "...   \n",
       "4               NaN  {'full_text': '@GOP Trump is playing all of yo...   \n",
       "\n",
       "   favorite_count favorited filter_level   ...    profile_text_color  \\\n",
       "0             0.0     False          low   ...                333333   \n",
       "1             0.0     False          low   ...                333333   \n",
       "2             0.0     False          low   ...                333333   \n",
       "3             0.0     False          low   ...                333333   \n",
       "4             0.0     False          low   ...                000000   \n",
       "\n",
       "   profile_use_background_image protected     screen_name  statuses_count  \\\n",
       "0                          True     False   MissBartmirth         35690.0   \n",
       "1                          True     False      realist_of            14.0   \n",
       "2                          True     False   WeAreAllEarth         55974.0   \n",
       "3                          True     False  eastwardenigma             9.0   \n",
       "4                         False     False    FredraKodama         22238.0   \n",
       "\n",
       "  time_zone  translator_type                                    url  \\\n",
       "0       NaN             none                                   None   \n",
       "1       NaN             none  https://www.binance.com/?ref=15212816   \n",
       "2       NaN             none                                   None   \n",
       "3       NaN             none                                   None   \n",
       "4       NaN             none    http://www.myspace.com/fredrakodama   \n",
       "\n",
       "  utc_offset verified  \n",
       "0        NaN    False  \n",
       "1        NaN    False  \n",
       "2        NaN    False  \n",
       "3        NaN    False  \n",
       "4        NaN    False  \n",
       "\n",
       "[5 rows x 77 columns]"
      ]
     },
     "execution_count": 22,
     "metadata": {},
     "output_type": "execute_result"
    }
   ],
   "source": [
    "# dropping missing values from extended_tweets and reseting index\n",
    "df.dropna(subset=['extended_tweet'], inplace = True)\n",
    "df = df.reset_index(drop = True) # reset index\n",
    "df.head()"
   ]
  },
  {
   "cell_type": "markdown",
   "metadata": {},
   "source": [
    "# Missing values have been dropped and full tweet can be extracted from \"extended_tweet\""
   ]
  },
  {
   "cell_type": "code",
   "execution_count": 23,
   "metadata": {},
   "outputs": [],
   "source": [
    "all_tweets = []\n",
    "for a in range (len(df.extended_tweet)):\n",
    "    single_tweet = (df['extended_tweet'][a]['full_text'])\n",
    "    all_tweets.append(single_tweet)"
   ]
  },
  {
   "cell_type": "code",
   "execution_count": 24,
   "metadata": {},
   "outputs": [
    {
     "data": {
      "text/plain": [
       "'@realDonaldTrump @POTUS ask manafort what it’s like to be in jail for Father’s Day and everyday after. \\nThe childre… https://t.co/vw6rOcCDDc'"
      ]
     },
     "execution_count": 24,
     "metadata": {},
     "output_type": "execute_result"
    }
   ],
   "source": [
    "df.text[11]"
   ]
  },
  {
   "cell_type": "markdown",
   "metadata": {},
   "source": [
    "# Above shows the truncated and cut off tweet. \n",
    "\n",
    "# Tweets that were extracted from \"extended_tweet\" are saved over this column and shows the full text now."
   ]
  },
  {
   "cell_type": "code",
   "execution_count": 25,
   "metadata": {},
   "outputs": [
    {
     "name": "stderr",
     "output_type": "stream",
     "text": [
      "C:\\Users\\maniq\\AppData\\Local\\Continuum\\anaconda3\\lib\\site-packages\\ipykernel_launcher.py:1: SettingWithCopyWarning: \n",
      "A value is trying to be set on a copy of a slice from a DataFrame\n",
      "\n",
      "See the caveats in the documentation: http://pandas.pydata.org/pandas-docs/stable/indexing.html#indexing-view-versus-copy\n",
      "  \"\"\"Entry point for launching an IPython kernel.\n"
     ]
    },
    {
     "data": {
      "text/plain": [
       "'@realDonaldTrump @POTUS ask manafort what it’s like to be in jail for Father’s Day and everyday after. \\nThe children taken from their parents did not commit a crime any crime worthy of horrible treatment you are inflicting'"
      ]
     },
     "execution_count": 25,
     "metadata": {},
     "output_type": "execute_result"
    }
   ],
   "source": [
    "df.text[:] = all_tweets\n",
    "df.text[11]"
   ]
  },
  {
   "cell_type": "markdown",
   "metadata": {},
   "source": [
    "# New DataFrame is created, which will only have full text/ tweet in it that was just extracted from \"extended_tweet\""
   ]
  },
  {
   "cell_type": "code",
   "execution_count": 26,
   "metadata": {
    "scrolled": true
   },
   "outputs": [
    {
     "data": {
      "text/plain": [
       "'2 months ago Kathy Griffin was a pariah but now she’s harassing Kevin Hart for not trashing Trump in his shows. Did I miss something that has elevated her to some kind of champion of the left (I.e., bully).'"
      ]
     },
     "execution_count": 26,
     "metadata": {},
     "output_type": "execute_result"
    }
   ],
   "source": [
    "# choose a column that has null values, so we can use that as 1 or 0, positive or negative tweet\n",
    "#new_data = df[['contributors', 'text']] \n",
    "\n",
    "new_data = df[['text']]\n",
    "new_data.text[0]"
   ]
  },
  {
   "cell_type": "markdown",
   "metadata": {},
   "source": [
    "# 10. Train the model on labelled dataset. Yelp food reviews are used to train the model. Because the reviews are labelled with ratings from users.  \n",
    "\n",
    "# Another way would be to create a labelled dataset, by reading the tweet and giving it a rating or polarity. 0 can be a negative tweet and 1 can be a positive tweet. And this method can be used to label 25 negative tweets and 25 positive tweets to train the model, then 50 tweets can be predicted based on that model and prediction of those 50 tweets can also be used to train the second model which would have 100 labelled tweets, to predict the next 100 tweets and this process will continue until all the tweets have been labelled and predicted, this is a form of reinforcement learning, but at an introductory level. But for this project prelabelled yelp reviews data set will be used to train the model."
   ]
  },
  {
   "cell_type": "code",
   "execution_count": 27,
   "metadata": {},
   "outputs": [
    {
     "data": {
      "text/html": [
       "<div>\n",
       "<style scoped>\n",
       "    .dataframe tbody tr th:only-of-type {\n",
       "        vertical-align: middle;\n",
       "    }\n",
       "\n",
       "    .dataframe tbody tr th {\n",
       "        vertical-align: top;\n",
       "    }\n",
       "\n",
       "    .dataframe thead th {\n",
       "        text-align: right;\n",
       "    }\n",
       "</style>\n",
       "<table border=\"1\" class=\"dataframe\">\n",
       "  <thead>\n",
       "    <tr style=\"text-align: right;\">\n",
       "      <th></th>\n",
       "      <th>business_id</th>\n",
       "      <th>date</th>\n",
       "      <th>review_id</th>\n",
       "      <th>stars</th>\n",
       "      <th>text</th>\n",
       "      <th>type</th>\n",
       "      <th>user_id</th>\n",
       "      <th>cool</th>\n",
       "      <th>useful</th>\n",
       "      <th>funny</th>\n",
       "    </tr>\n",
       "  </thead>\n",
       "  <tbody>\n",
       "    <tr>\n",
       "      <th>0</th>\n",
       "      <td>9yKzy9PApeiPPOUJEtnvkg</td>\n",
       "      <td>1/26/2011</td>\n",
       "      <td>fWKvX83p0-ka4JS3dc6E5A</td>\n",
       "      <td>5</td>\n",
       "      <td>My wife took me here on my birthday for breakf...</td>\n",
       "      <td>review</td>\n",
       "      <td>rLtl8ZkDX5vH5nAx9C3q5Q</td>\n",
       "      <td>2</td>\n",
       "      <td>5</td>\n",
       "      <td>0</td>\n",
       "    </tr>\n",
       "    <tr>\n",
       "      <th>1</th>\n",
       "      <td>ZRJwVLyzEJq1VAihDhYiow</td>\n",
       "      <td>7/27/2011</td>\n",
       "      <td>IjZ33sJrzXqU-0X6U8NwyA</td>\n",
       "      <td>5</td>\n",
       "      <td>I have no idea why some people give bad review...</td>\n",
       "      <td>review</td>\n",
       "      <td>0a2KyEL0d3Yb1V6aivbIuQ</td>\n",
       "      <td>0</td>\n",
       "      <td>0</td>\n",
       "      <td>0</td>\n",
       "    </tr>\n",
       "    <tr>\n",
       "      <th>2</th>\n",
       "      <td>6oRAC4uyJCsJl1X0WZpVSA</td>\n",
       "      <td>6/14/2012</td>\n",
       "      <td>IESLBzqUCLdSzSqm0eCSxQ</td>\n",
       "      <td>4</td>\n",
       "      <td>love the gyro plate. Rice is so good and I als...</td>\n",
       "      <td>review</td>\n",
       "      <td>0hT2KtfLiobPvh6cDC8JQg</td>\n",
       "      <td>0</td>\n",
       "      <td>1</td>\n",
       "      <td>0</td>\n",
       "    </tr>\n",
       "    <tr>\n",
       "      <th>3</th>\n",
       "      <td>_1QQZuf4zZOyFCvXc0o6Vg</td>\n",
       "      <td>5/27/2010</td>\n",
       "      <td>G-WvGaISbqqaMHlNnByodA</td>\n",
       "      <td>5</td>\n",
       "      <td>Rosie, Dakota, and I LOVE Chaparral Dog Park!!...</td>\n",
       "      <td>review</td>\n",
       "      <td>uZetl9T0NcROGOyFfughhg</td>\n",
       "      <td>1</td>\n",
       "      <td>2</td>\n",
       "      <td>0</td>\n",
       "    </tr>\n",
       "    <tr>\n",
       "      <th>4</th>\n",
       "      <td>6ozycU1RpktNG2-1BroVtw</td>\n",
       "      <td>1/5/2012</td>\n",
       "      <td>1uJFq2r5QfJG_6ExMRCaGw</td>\n",
       "      <td>5</td>\n",
       "      <td>General Manager Scott Petello is a good egg!!!...</td>\n",
       "      <td>review</td>\n",
       "      <td>vYmM4KTsC8ZfQBg-j5MWkw</td>\n",
       "      <td>0</td>\n",
       "      <td>0</td>\n",
       "      <td>0</td>\n",
       "    </tr>\n",
       "  </tbody>\n",
       "</table>\n",
       "</div>"
      ],
      "text/plain": [
       "              business_id       date               review_id  stars  \\\n",
       "0  9yKzy9PApeiPPOUJEtnvkg  1/26/2011  fWKvX83p0-ka4JS3dc6E5A      5   \n",
       "1  ZRJwVLyzEJq1VAihDhYiow  7/27/2011  IjZ33sJrzXqU-0X6U8NwyA      5   \n",
       "2  6oRAC4uyJCsJl1X0WZpVSA  6/14/2012  IESLBzqUCLdSzSqm0eCSxQ      4   \n",
       "3  _1QQZuf4zZOyFCvXc0o6Vg  5/27/2010  G-WvGaISbqqaMHlNnByodA      5   \n",
       "4  6ozycU1RpktNG2-1BroVtw   1/5/2012  1uJFq2r5QfJG_6ExMRCaGw      5   \n",
       "\n",
       "                                                text    type  \\\n",
       "0  My wife took me here on my birthday for breakf...  review   \n",
       "1  I have no idea why some people give bad review...  review   \n",
       "2  love the gyro plate. Rice is so good and I als...  review   \n",
       "3  Rosie, Dakota, and I LOVE Chaparral Dog Park!!...  review   \n",
       "4  General Manager Scott Petello is a good egg!!!...  review   \n",
       "\n",
       "                  user_id  cool  useful  funny  \n",
       "0  rLtl8ZkDX5vH5nAx9C3q5Q     2       5      0  \n",
       "1  0a2KyEL0d3Yb1V6aivbIuQ     0       0      0  \n",
       "2  0hT2KtfLiobPvh6cDC8JQg     0       1      0  \n",
       "3  uZetl9T0NcROGOyFfughhg     1       2      0  \n",
       "4  vYmM4KTsC8ZfQBg-j5MWkw     0       0      0  "
      ]
     },
     "execution_count": 27,
     "metadata": {},
     "output_type": "execute_result"
    }
   ],
   "source": [
    "yelp = pd.read_csv(\"yelp.csv\")\n",
    "yelp.head()"
   ]
  },
  {
   "cell_type": "code",
   "execution_count": 28,
   "metadata": {},
   "outputs": [
    {
     "data": {
      "text/plain": [
       "<matplotlib.axes._subplots.AxesSubplot at 0x22d43bfb4a8>"
      ]
     },
     "execution_count": 28,
     "metadata": {},
     "output_type": "execute_result"
    },
    {
     "data": {
      "image/png": "[encoded data removed]",
      "text/plain": [
       "<matplotlib.figure.Figure at 0x22d4393dda0>"
      ]
     },
     "metadata": {},
     "output_type": "display_data"
    }
   ],
   "source": [
    "sns.distplot(yelp.stars, bins = 10)"
   ]
  },
  {
   "cell_type": "markdown",
   "metadata": {},
   "source": [
    "# Above is the distribution of ratings."
   ]
  },
  {
   "cell_type": "markdown",
   "metadata": {},
   "source": [
    "# 11. Filter 1 and 5-star reviews – Reviews are filtered to only keep 1 and 5-star reviews, so the polarity can have two categories, 1 being negative and 5 being positive.  \n",
    "\n",
    "# More categories can be created to split the polarity, 1 being extremely negative, 2 being less negative, 3 being neutral, 4 being slightly positive, and 5 being strongly positive. \n",
    "\n",
    "# But for this project only two categories are created."
   ]
  },
  {
   "cell_type": "code",
   "execution_count": 29,
   "metadata": {},
   "outputs": [],
   "source": [
    "new_yelp = yelp[(yelp.stars == 5)|(yelp.stars == 1)]\n",
    "new_yelp.reset_index(drop = True, inplace = True) # if drop = True is not there, there will be two indexes"
   ]
  },
  {
   "cell_type": "code",
   "execution_count": 30,
   "metadata": {},
   "outputs": [
    {
     "data": {
      "text/html": [
       "<div>\n",
       "<style scoped>\n",
       "    .dataframe tbody tr th:only-of-type {\n",
       "        vertical-align: middle;\n",
       "    }\n",
       "\n",
       "    .dataframe tbody tr th {\n",
       "        vertical-align: top;\n",
       "    }\n",
       "\n",
       "    .dataframe thead th {\n",
       "        text-align: right;\n",
       "    }\n",
       "</style>\n",
       "<table border=\"1\" class=\"dataframe\">\n",
       "  <thead>\n",
       "    <tr style=\"text-align: right;\">\n",
       "      <th></th>\n",
       "      <th>business_id</th>\n",
       "      <th>date</th>\n",
       "      <th>review_id</th>\n",
       "      <th>stars</th>\n",
       "      <th>text</th>\n",
       "      <th>type</th>\n",
       "      <th>user_id</th>\n",
       "      <th>cool</th>\n",
       "      <th>useful</th>\n",
       "      <th>funny</th>\n",
       "    </tr>\n",
       "  </thead>\n",
       "  <tbody>\n",
       "    <tr>\n",
       "      <th>0</th>\n",
       "      <td>9yKzy9PApeiPPOUJEtnvkg</td>\n",
       "      <td>1/26/2011</td>\n",
       "      <td>fWKvX83p0-ka4JS3dc6E5A</td>\n",
       "      <td>5</td>\n",
       "      <td>My wife took me here on my birthday for breakf...</td>\n",
       "      <td>review</td>\n",
       "      <td>rLtl8ZkDX5vH5nAx9C3q5Q</td>\n",
       "      <td>2</td>\n",
       "      <td>5</td>\n",
       "      <td>0</td>\n",
       "    </tr>\n",
       "    <tr>\n",
       "      <th>1</th>\n",
       "      <td>ZRJwVLyzEJq1VAihDhYiow</td>\n",
       "      <td>7/27/2011</td>\n",
       "      <td>IjZ33sJrzXqU-0X6U8NwyA</td>\n",
       "      <td>5</td>\n",
       "      <td>I have no idea why some people give bad review...</td>\n",
       "      <td>review</td>\n",
       "      <td>0a2KyEL0d3Yb1V6aivbIuQ</td>\n",
       "      <td>0</td>\n",
       "      <td>0</td>\n",
       "      <td>0</td>\n",
       "    </tr>\n",
       "    <tr>\n",
       "      <th>2</th>\n",
       "      <td>_1QQZuf4zZOyFCvXc0o6Vg</td>\n",
       "      <td>5/27/2010</td>\n",
       "      <td>G-WvGaISbqqaMHlNnByodA</td>\n",
       "      <td>5</td>\n",
       "      <td>Rosie, Dakota, and I LOVE Chaparral Dog Park!!...</td>\n",
       "      <td>review</td>\n",
       "      <td>uZetl9T0NcROGOyFfughhg</td>\n",
       "      <td>1</td>\n",
       "      <td>2</td>\n",
       "      <td>0</td>\n",
       "    </tr>\n",
       "    <tr>\n",
       "      <th>3</th>\n",
       "      <td>6ozycU1RpktNG2-1BroVtw</td>\n",
       "      <td>1/5/2012</td>\n",
       "      <td>1uJFq2r5QfJG_6ExMRCaGw</td>\n",
       "      <td>5</td>\n",
       "      <td>General Manager Scott Petello is a good egg!!!...</td>\n",
       "      <td>review</td>\n",
       "      <td>vYmM4KTsC8ZfQBg-j5MWkw</td>\n",
       "      <td>0</td>\n",
       "      <td>0</td>\n",
       "      <td>0</td>\n",
       "    </tr>\n",
       "    <tr>\n",
       "      <th>4</th>\n",
       "      <td>zp713qNhx8d9KCJJnrw1xA</td>\n",
       "      <td>2/12/2010</td>\n",
       "      <td>riFQ3vxNpP4rWLk_CSri2A</td>\n",
       "      <td>5</td>\n",
       "      <td>Drop what you're doing and drive here. After I...</td>\n",
       "      <td>review</td>\n",
       "      <td>wFweIWhv2fREZV_dYkz_1g</td>\n",
       "      <td>7</td>\n",
       "      <td>7</td>\n",
       "      <td>4</td>\n",
       "    </tr>\n",
       "  </tbody>\n",
       "</table>\n",
       "</div>"
      ],
      "text/plain": [
       "              business_id       date               review_id  stars  \\\n",
       "0  9yKzy9PApeiPPOUJEtnvkg  1/26/2011  fWKvX83p0-ka4JS3dc6E5A      5   \n",
       "1  ZRJwVLyzEJq1VAihDhYiow  7/27/2011  IjZ33sJrzXqU-0X6U8NwyA      5   \n",
       "2  _1QQZuf4zZOyFCvXc0o6Vg  5/27/2010  G-WvGaISbqqaMHlNnByodA      5   \n",
       "3  6ozycU1RpktNG2-1BroVtw   1/5/2012  1uJFq2r5QfJG_6ExMRCaGw      5   \n",
       "4  zp713qNhx8d9KCJJnrw1xA  2/12/2010  riFQ3vxNpP4rWLk_CSri2A      5   \n",
       "\n",
       "                                                text    type  \\\n",
       "0  My wife took me here on my birthday for breakf...  review   \n",
       "1  I have no idea why some people give bad review...  review   \n",
       "2  Rosie, Dakota, and I LOVE Chaparral Dog Park!!...  review   \n",
       "3  General Manager Scott Petello is a good egg!!!...  review   \n",
       "4  Drop what you're doing and drive here. After I...  review   \n",
       "\n",
       "                  user_id  cool  useful  funny  \n",
       "0  rLtl8ZkDX5vH5nAx9C3q5Q     2       5      0  \n",
       "1  0a2KyEL0d3Yb1V6aivbIuQ     0       0      0  \n",
       "2  uZetl9T0NcROGOyFfughhg     1       2      0  \n",
       "3  vYmM4KTsC8ZfQBg-j5MWkw     0       0      0  \n",
       "4  wFweIWhv2fREZV_dYkz_1g     7       7      4  "
      ]
     },
     "execution_count": 30,
     "metadata": {},
     "output_type": "execute_result"
    }
   ],
   "source": [
    "new_yelp.head()"
   ]
  },
  {
   "cell_type": "markdown",
   "metadata": {},
   "source": [
    "# Below histogram shows that there are more positive yelp reviews, 7 times as many compared to negative reviews. This is an example of imbalanced dataset. The dataset will have to be balanced by using one of the sampling techniques before it can be trained so the model is not bias to predict positive polarity more often. \n",
    "\n",
    " # Two other ways would be either label a dataset with 50% positive and 50% negative tweets, or get a labelled data set that has 50% positive and 50% negative reviews, and then sampling won't be applied because the dataset will already be balanced."
   ]
  },
  {
   "cell_type": "code",
   "execution_count": 31,
   "metadata": {},
   "outputs": [
    {
     "data": {
      "text/plain": [
       "<matplotlib.axes._subplots.AxesSubplot at 0x22d445b6588>"
      ]
     },
     "execution_count": 31,
     "metadata": {},
     "output_type": "execute_result"
    },
    {
     "data": {
      "image/png": "[encoded data removed]",
      "text/plain": [
       "<matplotlib.figure.Figure at 0x22d43bf6748>"
      ]
     },
     "metadata": {},
     "output_type": "display_data"
    }
   ],
   "source": [
    "new_yelp.stars.hist()"
   ]
  },
  {
   "cell_type": "code",
   "execution_count": 32,
   "metadata": {},
   "outputs": [
    {
     "data": {
      "text/plain": [
       "<matplotlib.axes._subplots.AxesSubplot at 0x22d44650780>"
      ]
     },
     "execution_count": 32,
     "metadata": {},
     "output_type": "execute_result"
    },
    {
     "data": {
      "image/png": "[encoded data removed]",
      "text/plain": [
       "<matplotlib.figure.Figure at 0x22d4461a438>"
      ]
     },
     "metadata": {},
     "output_type": "display_data"
    }
   ],
   "source": [
    "sns.distplot(new_yelp.stars)"
   ]
  },
  {
   "cell_type": "markdown",
   "metadata": {},
   "source": [
    "# 12. Create a model - Assign x and y"
   ]
  },
  {
   "cell_type": "code",
   "execution_count": 33,
   "metadata": {},
   "outputs": [],
   "source": [
    "x = new_yelp.text\n",
    "y = new_yelp.stars"
   ]
  },
  {
   "cell_type": "code",
   "execution_count": 34,
   "metadata": {
    "scrolled": true
   },
   "outputs": [
    {
     "data": {
      "text/plain": [
       "0    My wife took me here on my birthday for breakf...\n",
       "1    I have no idea why some people give bad review...\n",
       "2    Rosie, Dakota, and I LOVE Chaparral Dog Park!!...\n",
       "3    General Manager Scott Petello is a good egg!!!...\n",
       "4    Drop what you're doing and drive here. After I...\n",
       "Name: text, dtype: object"
      ]
     },
     "execution_count": 34,
     "metadata": {},
     "output_type": "execute_result"
    }
   ],
   "source": [
    "x.head()"
   ]
  },
  {
   "cell_type": "markdown",
   "metadata": {},
   "source": [
    "# 13 - Remove stopwords"
   ]
  },
  {
   "cell_type": "code",
   "execution_count": 35,
   "metadata": {},
   "outputs": [
    {
     "data": {
      "text/plain": [
       "'My wife took me here on my birthday for breakfast and it was excellent.  The weather was perfect which made sitting outside overlooking their grounds an absolute pleasure.  Our waitress was excellent and our food arrived quickly on the semi-busy Saturday morning.  It looked like the place fills up pretty quickly so the earlier you get here the better.\\n\\nDo yourself a favor and get their Bloody Mary.  It was phenomenal and simply the best I\\'ve ever had.  I\\'m pretty sure they only use ingredients from their garden and blend them fresh when you order it.  It was amazing.\\n\\nWhile EVERYTHING on the menu looks excellent, I had the white truffle scrambled eggs vegetable skillet and it was tasty and delicious.  It came with 2 pieces of their griddled bread with was amazing and it absolutely made the meal complete.  It was the best \"toast\" I\\'ve ever had.\\n\\nAnyway, I can\\'t wait to go back!'"
      ]
     },
     "execution_count": 35,
     "metadata": {},
     "output_type": "execute_result"
    }
   ],
   "source": [
    "x[0]"
   ]
  },
  {
   "cell_type": "markdown",
   "metadata": {},
   "source": [
    "# Above is a snippet of one of the full yelp reviews. This text will be used to train the model. But some of the most common words will be removed from the text for all the reviews because these common words help for conversational purpose, but these common words don’t help in analyzing polarity because these common words will be common in positive and negative reviews and tweets. Removing these common words saves resources and trains the model faster."
   ]
  },
  {
   "cell_type": "code",
   "execution_count": 36,
   "metadata": {},
   "outputs": [],
   "source": [
    "from nltk.corpus import stopwords\n",
    "x = list(map(lambda a: a.lower().split(), x)) # change all uppercase words or titles to lower cases and split them at space\n",
    "stop_words = set(stopwords.words('english'))  # find all stop words and make them equal to stop_words\n",
    "x = list(map(lambda a: [item for item in a if item not in stop_words], x)) # only save words that are not stopwords\n",
    "x = list(map(lambda a: \" \".join(a), x)) # join back all the words that were seperated by commas"
   ]
  },
  {
   "cell_type": "markdown",
   "metadata": {},
   "source": [
    "# After applying stop words that removes common English words from all the reviews, below is what the review will look like. \"My\" and \"me here on my\" was removed from the first sentence. This process has been done for all of the reviews."
   ]
  },
  {
   "cell_type": "code",
   "execution_count": 37,
   "metadata": {},
   "outputs": [
    {
     "data": {
      "text/plain": [
       "'wife took birthday breakfast excellent. weather perfect made sitting outside overlooking grounds absolute pleasure. waitress excellent food arrived quickly semi-busy saturday morning. looked like place fills pretty quickly earlier get better. favor get bloody mary. phenomenal simply best i\\'ve ever had. i\\'m pretty sure use ingredients garden blend fresh order it. amazing. everything menu looks excellent, white truffle scrambled eggs vegetable skillet tasty delicious. came 2 pieces griddled bread amazing absolutely made meal complete. best \"toast\" i\\'ve ever had. anyway, can\\'t wait go back!'"
      ]
     },
     "execution_count": 37,
     "metadata": {},
     "output_type": "execute_result"
    }
   ],
   "source": [
    "x[0]"
   ]
  },
  {
   "cell_type": "markdown",
   "metadata": {},
   "source": [
    "# 14 Train Test Split"
   ]
  },
  {
   "cell_type": "code",
   "execution_count": 38,
   "metadata": {},
   "outputs": [],
   "source": [
    "from sklearn.model_selection import train_test_split as tts\n",
    "x_train, x_test, y_train, y_test = tts(x, y, test_size = 0.2, random_state = 0) # we dont have to stratify"
   ]
  },
  {
   "cell_type": "markdown",
   "metadata": {},
   "source": [
    "# 15 CountVectorizer - In order to train the model, these reviews have to be converted into numbers because machine learning algorithms can't read text, but they can read numbers. However, dummies are not created for this. Dummies are created for fewer letters or text which are categories. But reviews have more text. For instance, the first yelp review has 84 words, so Countvectorizer will count the number of times words appear in the data."
   ]
  },
  {
   "cell_type": "code",
   "execution_count": 39,
   "metadata": {},
   "outputs": [],
   "source": [
    "from sklearn.feature_extraction.text import CountVectorizer\n",
    "vect = CountVectorizer(lowercase = False, ngram_range = (1, 2))\n",
    "x_train_dtm = vect.fit_transform(x_train) #dtm stands for document term matrix\n",
    "x_test_dtm = vect.transform(x_test)"
   ]
  },
  {
   "cell_type": "code",
   "execution_count": 40,
   "metadata": {},
   "outputs": [
    {
     "data": {
      "text/plain": [
       "<818x177744 sparse matrix of type '<class 'numpy.int64'>'\n",
       "\twith 57764 stored elements in Compressed Sparse Row format>"
      ]
     },
     "execution_count": 40,
     "metadata": {},
     "output_type": "execute_result"
    }
   ],
   "source": [
    "x_test_dtm"
   ]
  },
  {
   "cell_type": "code",
   "execution_count": 41,
   "metadata": {},
   "outputs": [
    {
     "data": {
      "text/plain": [
       "<3268x177744 sparse matrix of type '<class 'numpy.int64'>'\n",
       "\twith 385915 stored elements in Compressed Sparse Row format>"
      ]
     },
     "execution_count": 41,
     "metadata": {},
     "output_type": "execute_result"
    }
   ],
   "source": [
    "x_train_dtm"
   ]
  },
  {
   "cell_type": "code",
   "execution_count": 42,
   "metadata": {},
   "outputs": [
    {
     "data": {
      "text/plain": [
       "array([[0, 0, 0, ..., 0, 0, 0],\n",
       "       [0, 0, 0, ..., 0, 0, 0],\n",
       "       [0, 0, 0, ..., 0, 0, 0],\n",
       "       ...,\n",
       "       [0, 0, 0, ..., 0, 0, 0],\n",
       "       [0, 0, 0, ..., 0, 0, 0],\n",
       "       [0, 0, 0, ..., 0, 0, 0]], dtype=int64)"
      ]
     },
     "execution_count": 42,
     "metadata": {},
     "output_type": "execute_result"
    }
   ],
   "source": [
    "x_test_dtm.toarray()"
   ]
  },
  {
   "cell_type": "code",
   "execution_count": 43,
   "metadata": {},
   "outputs": [
    {
     "name": "stdout",
     "output_type": "stream",
     "text": [
      "(3268, 177744)\n",
      "(3268,)\n"
     ]
    }
   ],
   "source": [
    "print(x_train_dtm.shape)\n",
    "print(y_train.shape)"
   ]
  },
  {
   "cell_type": "code",
   "execution_count": 96,
   "metadata": {
    "scrolled": true
   },
   "outputs": [],
   "source": [
    "#x_test_dtm.toarray()[:,0]"
   ]
  },
  {
   "cell_type": "code",
   "execution_count": 97,
   "metadata": {},
   "outputs": [],
   "source": [
    "#vect.get_feature_names()"
   ]
  },
  {
   "cell_type": "code",
   "execution_count": 46,
   "metadata": {},
   "outputs": [
    {
     "data": {
      "text/plain": [
       "[array(['another', 'another excellent', 'chicken', 'excellent',\n",
       "        'extremely', 'find', 'find scottsdale', 'flavorful', 'food',\n",
       "        'food extremely', 'good', 'good size', 'herb', 'herb chicken',\n",
       "        'highly', 'highly recommended', 'portions', 'recommended',\n",
       "        'scallops', 'scottsdale', 'scottsdale service', 'sea',\n",
       "        'sea scallops', 'service', 'service wonderful', 'size',\n",
       "        'size portions', 'wonderful', 'wonderful food'], dtype='<U45')]"
      ]
     },
     "execution_count": 46,
     "metadata": {},
     "output_type": "execute_result"
    }
   ],
   "source": [
    "vect.inverse_transform(x_test_dtm.toarray()[1])"
   ]
  },
  {
   "cell_type": "code",
   "execution_count": 47,
   "metadata": {},
   "outputs": [
    {
     "data": {
      "text/plain": [
       "'another excellent find scottsdale. service wonderful food extremely flavorful good size portions. sea scallops herb chicken highly recommended.'"
      ]
     },
     "execution_count": 47,
     "metadata": {},
     "output_type": "execute_result"
    }
   ],
   "source": [
    "x_test[1]"
   ]
  },
  {
   "cell_type": "markdown",
   "metadata": {},
   "source": [
    "# 16 TF-IDF - Term frequency inverse document frequency – TFIDF is used to reduce the weightage of more common words. But stop words have already been removed by using stopwords from nltk corpus. If stopwords isnt applied, tfidf can be used to reduce weightage of common words."
   ]
  },
  {
   "cell_type": "code",
   "execution_count": 48,
   "metadata": {},
   "outputs": [],
   "source": [
    "#from sklearn.feature_extraction.text import TfidfTransformer\n",
    "#tfidf_transformer = TfidfTransformer()\n",
    "#x_train_tfidf = tfidf_transformer.fit_transform(x_train_dtm)\n",
    "#x_test_tfidf =  tfidf_transformer.transform(x_test_dtm)"
   ]
  },
  {
   "cell_type": "markdown",
   "metadata": {},
   "source": [
    "# 17 Random OverSampling"
   ]
  },
  {
   "cell_type": "markdown",
   "metadata": {},
   "source": [
    "# There are numerous sampling techniques that can be used to balance imbalanced dataset. For this project SMOTE (Synthetic Minority Over-sampling Technique) will be used. SMOTE increases the representation of the minority class by creating new synthetic data points, so each class has equal representation."
   ]
  },
  {
   "cell_type": "markdown",
   "metadata": {},
   "source": [
    "# Below project discusses and explains in detail what each sampling technique is, how data points are created or removed and compares results of different sampling techniques: \n",
    "### [Random Under-sampling](https://github.com/mohammadbutt/5th-Project-Predicting-Device-Failure-Imbalanced-Data/blob/master/Predicting%20Device%20Failure-Random%20Under%20Sampling.ipynb)\n",
    "### [Random Over-sampling](https://github.com/mohammadbutt/5th-Project-Predicting-Device-Failure-Imbalanced-Data/blob/master/Predicting%20Device%20Failure-Random%20Over%20Sampling.ipynb)\n",
    "### [SMOTE (Synthetic Minority Over-sampling Technique)](https://github.com/mohammadbutt/5th-Project-Predicting-Device-Failure-Imbalanced-Data/blob/master/Predicting%20Device%20Failure-SMOTE.ipynb)\n",
    "### [ADASYN (Adaptive Synthetic Sampling Approach for Imbalanced Learning)](https://github.com/mohammadbutt/5th-Project-Predicting-Device-Failure-Imbalanced-Data/blob/master/Predicting%20Device%20Failure-ADASYN.ipynb)\n"
   ]
  },
  {
   "cell_type": "code",
   "execution_count": 49,
   "metadata": {},
   "outputs": [],
   "source": [
    "from imblearn.over_sampling import SMOTE"
   ]
  },
  {
   "cell_type": "code",
   "execution_count": 50,
   "metadata": {},
   "outputs": [],
   "source": [
    "smt = SMOTE(random_state = 0)\n",
    "x_resampled_train, y_resampled_train = smt.fit_sample(x_train_dtm, y_train)"
   ]
  },
  {
   "cell_type": "code",
   "execution_count": 51,
   "metadata": {},
   "outputs": [
    {
     "name": "stdout",
     "output_type": "stream",
     "text": [
      "604\n",
      "2664\n"
     ]
    }
   ],
   "source": [
    "print(y_train[y_train ==1].count())\n",
    "print(y_train[y_train ==5].count())"
   ]
  },
  {
   "cell_type": "code",
   "execution_count": 52,
   "metadata": {},
   "outputs": [
    {
     "name": "stdout",
     "output_type": "stream",
     "text": [
      "2664\n",
      "2664\n"
     ]
    }
   ],
   "source": [
    "print((y_resampled_train ==1).sum())\n",
    "print((y_resampled_train ==5).sum())"
   ]
  },
  {
   "cell_type": "markdown",
   "metadata": {},
   "source": [
    "# Scatter plot using PCA (Principal Component Analysis) - PCA performs dimensionality reduction on the data. It compresses the data which takes less memory, space, and is faster to train a machine learning algorithm. Turning text into numbers using countVectorizer created more features and applying principal component analysis onto it compressed that data. \n",
    "\n",
    "# In order to generate visualization of the text data, principal component analysis was used to turn 3,268-Dimensional data into 2-Dimensional data reducing computation time, power, and memory space."
   ]
  },
  {
   "cell_type": "code",
   "execution_count": 53,
   "metadata": {},
   "outputs": [],
   "source": [
    "from sklearn.decomposition import PCA\n",
    "#from sklearn.pipeline import Pipeline"
   ]
  },
  {
   "cell_type": "code",
   "execution_count": 54,
   "metadata": {},
   "outputs": [
    {
     "name": "stdout",
     "output_type": "stream",
     "text": [
      "Wall time: 14min 4s\n"
     ]
    }
   ],
   "source": [
    "%%time\n",
    "pca_x_train_dtm = PCA().fit(x_train_dtm.todense())\n",
    "pca_x_res_train = PCA().fit(x_resampled_train.todense())"
   ]
  },
  {
   "cell_type": "markdown",
   "metadata": {},
   "source": [
    "# Above shows principal component analysis that was performed on the training and oversampled training dataset that has 3,268 Dimensions which took 14 minutes and used a lot of memory to save this information. If visualizations are generated using all this information it will take a lot of time and resources.\n",
    "\n",
    "# Below shows principal component analysis that was performed on the same two datasets. The data was reduced from 3,268 Dimensions to 2-Dimensions, which took 1 minute and 18 seconds and used very little memory."
   ]
  },
  {
   "cell_type": "code",
   "execution_count": 55,
   "metadata": {},
   "outputs": [
    {
     "name": "stdout",
     "output_type": "stream",
     "text": [
      "Wall time: 1min 18s\n"
     ]
    }
   ],
   "source": [
    "%%time\n",
    "pca_x_train_dtm = PCA(n_components=2).fit(x_train_dtm.todense())\n",
    "pca_x_res_train = PCA(n_components=2).fit(x_resampled_train.todense())"
   ]
  },
  {
   "cell_type": "code",
   "execution_count": 56,
   "metadata": {},
   "outputs": [],
   "source": [
    "new_x = pca_x_train_dtm.transform(x_train_dtm.todense())\n",
    "res_x = pca_x_res_train.transform(x_resampled_train.todense())"
   ]
  },
  {
   "cell_type": "code",
   "execution_count": 57,
   "metadata": {},
   "outputs": [],
   "source": [
    "x_1 = new_x[y_train==1]\n",
    "x_5 = new_x[y_train==5]\n",
    "x_1_res = res_x[y_resampled_train == 1]\n",
    "x_5_res = res_x[y_resampled_train == 5]"
   ]
  },
  {
   "cell_type": "markdown",
   "metadata": {},
   "source": [
    "# SMOTE is used to create more data points for negative reviews that are red dots. Plot 1 shows data points before oversampling is done on negative reviews. Plot 2 shows data points after oversampling is done on negative reviews. \n",
    "\n",
    "# In plot 1 there are few red data points and they are also light in color, in plot 2 there are more red data points as well as dark in color. Lighter red dots mean there are few data points and darker red dots mean there are more data points and negative reviews."
   ]
  },
  {
   "cell_type": "code",
   "execution_count": 58,
   "metadata": {},
   "outputs": [
    {
     "data": {
      "text/plain": [
       "<matplotlib.legend.Legend at 0x22d477a2c50>"
      ]
     },
     "execution_count": 58,
     "metadata": {},
     "output_type": "execute_result"
    },
    {
     "data": {
      "image/png": "[encoded data removed]",
      "text/plain": [
       "<matplotlib.figure.Figure at 0x22d47c096d8>"
      ]
     },
     "metadata": {},
     "output_type": "display_data"
    },
    {
     "data": {
      "image/png": "[encoded data removed]",
      "text/plain": [
       "<matplotlib.figure.Figure at 0x22d47e24f28>"
      ]
     },
     "metadata": {},
     "output_type": "display_data"
    }
   ],
   "source": [
    "plt.figure(figsize=(16,6)).suptitle(\"Plot 1-Before SMOTE\", fontsize=20)\n",
    "plt.subplot(1,2,1).scatter((x_1)[:,0], (x_1)[:,1], color=\"red\", alpha = 0.2)\n",
    "plt.legend(('Negative Reviews',), scatterpoints =1,fontsize=14, loc = \"upper right\")\n",
    "plt.subplot(1,2,2).scatter((x_5)[:,0], (x_5)[:,1], color=\"lime\",alpha = 0.2)\n",
    "plt.legend(('Positive Reviews',), scatterpoints =1,fontsize=14, loc = \"upper right\")\n",
    "\n",
    "plt.figure(figsize=(16,6)).suptitle(\"Plot 2-After SMOTE\", fontsize=20)\n",
    "plt.subplot(1,2,1).scatter((x_1_res)[:,0], (x_1_res)[:,1], color=\"red\",alpha = 0.2)\n",
    "plt.legend(('Negative Reviews',), scatterpoints =3,fontsize=14, loc = \"upper right\")\n",
    "plt.subplot(1,2,2).scatter((x_5_res)[:,0], (x_5_res)[:,1], color=\"lime\",alpha = 0.2)\n",
    "plt.legend(('Positive Reviews',), scatterpoints =1,fontsize=14, loc = \"upper right\")"
   ]
  },
  {
   "cell_type": "markdown",
   "metadata": {},
   "source": [
    "# 18 Import Algorithms - Negative and positive reviews are balanced now and algorithms can be imported to train models."
   ]
  },
  {
   "cell_type": "code",
   "execution_count": 59,
   "metadata": {},
   "outputs": [],
   "source": [
    "from sklearn.naive_bayes import MultinomialNB\n",
    "from sklearn.naive_bayes import BernoulliNB\n",
    "from sklearn.linear_model import LogisticRegression\n",
    "from sklearn.linear_model import SGDClassifier\n",
    "from sklearn.svm import SVC\n",
    "from sklearn.svm import LinearSVC\n",
    "from sklearn.svm import NuSVC\n",
    "from sklearn.ensemble import VotingClassifier"
   ]
  },
  {
   "cell_type": "code",
   "execution_count": 60,
   "metadata": {},
   "outputs": [],
   "source": [
    "mnb = MultinomialNB()\n",
    "bnb = BernoulliNB()\n",
    "lr = LogisticRegression()\n",
    "sgd = SGDClassifier()\n",
    "sv = SVC()\n",
    "lsv = LinearSVC()\n",
    "nsv = NuSVC()\n",
    "vot = VotingClassifier(estimators=[(\"mnb1\", mnb),(\"lr2\", lr), (\"sgd3\", sgd),(\"lsv4\", lsv)],\n",
    "                      weights = [1,2,1,1])"
   ]
  },
  {
   "cell_type": "markdown",
   "metadata": {},
   "source": [
    "# 19. Fit the data – Models are trained on the balanced data set"
   ]
  },
  {
   "cell_type": "code",
   "execution_count": 61,
   "metadata": {},
   "outputs": [
    {
     "name": "stderr",
     "output_type": "stream",
     "text": [
      "C:\\Users\\maniq\\AppData\\Local\\Continuum\\anaconda3\\lib\\site-packages\\sklearn\\linear_model\\stochastic_gradient.py:128: FutureWarning: max_iter and tol parameters have been added in <class 'sklearn.linear_model.stochastic_gradient.SGDClassifier'> in 0.19. If both are left unset, they default to max_iter=5 and tol=None. If tol is not None, max_iter defaults to max_iter=1000. From 0.21, default max_iter will be 1000, and default tol will be 1e-3.\n",
      "  \"and default tol will be 1e-3.\" % type(self), FutureWarning)\n",
      "C:\\Users\\maniq\\AppData\\Local\\Continuum\\anaconda3\\lib\\site-packages\\sklearn\\linear_model\\stochastic_gradient.py:128: FutureWarning: max_iter and tol parameters have been added in <class 'sklearn.linear_model.stochastic_gradient.SGDClassifier'> in 0.19. If both are left unset, they default to max_iter=5 and tol=None. If tol is not None, max_iter defaults to max_iter=1000. From 0.21, default max_iter will be 1000, and default tol will be 1e-3.\n",
      "  \"and default tol will be 1e-3.\" % type(self), FutureWarning)\n"
     ]
    }
   ],
   "source": [
    "mnbc = mnb.fit(x_resampled_train, y_resampled_train)\n",
    "bnbc = bnb.fit(x_resampled_train, y_resampled_train)\n",
    "lrr = lr.fit(x_resampled_train, y_resampled_train)\n",
    "sgdc = sgd.fit(x_resampled_train, y_resampled_train)\n",
    "svc = sv.fit(x_resampled_train, y_resampled_train)\n",
    "lsvc = lsv.fit(x_resampled_train, y_resampled_train)\n",
    "nsvc = nsv.fit(x_resampled_train, y_resampled_train)\n",
    "vote = vot.fit(x_resampled_train, y_resampled_train)"
   ]
  },
  {
   "cell_type": "code",
   "execution_count": 62,
   "metadata": {},
   "outputs": [
    {
     "name": "stdout",
     "output_type": "stream",
     "text": [
      "(3268, 177744)\n",
      "(5328, 177744)\n"
     ]
    }
   ],
   "source": [
    "print(x_train_dtm.shape)\n",
    "print(x_resampled_train.shape)"
   ]
  },
  {
   "cell_type": "code",
   "execution_count": 63,
   "metadata": {},
   "outputs": [
    {
     "name": "stdout",
     "output_type": "stream",
     "text": [
      "(3268,)\n",
      "(5328,)\n"
     ]
    }
   ],
   "source": [
    "print(y_train.shape)\n",
    "print(y_resampled_train.shape)"
   ]
  },
  {
   "cell_type": "code",
   "execution_count": 64,
   "metadata": {},
   "outputs": [
    {
     "name": "stdout",
     "output_type": "stream",
     "text": [
      "604\n",
      "2664\n"
     ]
    }
   ],
   "source": [
    "print(y_train[y_train==1].count())\n",
    "print(y_train[y_train==5].count())"
   ]
  },
  {
   "cell_type": "markdown",
   "metadata": {},
   "source": [
    "# 20. Matrices"
   ]
  },
  {
   "cell_type": "code",
   "execution_count": 65,
   "metadata": {},
   "outputs": [
    {
     "name": "stdout",
     "output_type": "stream",
     "text": [
      "MultinomialNB train score: 99.90615615615616\n",
      "Bernoulli train score: 96.69669669669669\n",
      "Logistic Regression train score: 99.98123123123122\n",
      "SGDClassifier train score: 99.98123123123122\n",
      "SVC train score: 54.016516516516525\n",
      "LinearSVC train score: 100.0\n",
      "NuSVC train score: 95.57057057057057\n",
      "Voting train score: 99.98123123123122\n"
     ]
    },
    {
     "name": "stderr",
     "output_type": "stream",
     "text": [
      "C:\\Users\\maniq\\AppData\\Local\\Continuum\\anaconda3\\lib\\site-packages\\sklearn\\preprocessing\\label.py:151: DeprecationWarning: The truth value of an empty array is ambiguous. Returning False, but in future this will result in an error. Use `array.size > 0` to check that an array is not empty.\n",
      "  if diff:\n"
     ]
    }
   ],
   "source": [
    "print(\"MultinomialNB train score:\", mnbc.score(x_resampled_train, y_resampled_train)*100)\n",
    "print(\"Bernoulli train score:\", bnbc.score(x_resampled_train, y_resampled_train)*100)\n",
    "print(\"Logistic Regression train score:\", lrr.score(x_resampled_train, y_resampled_train)*100)\n",
    "print(\"SGDClassifier train score:\", sgdc.score(x_resampled_train, y_resampled_train)*100)\n",
    "print(\"SVC train score:\", svc.score(x_resampled_train, y_resampled_train)*100)\n",
    "print(\"LinearSVC train score:\", lsvc.score(x_resampled_train, y_resampled_train)*100)\n",
    "print(\"NuSVC train score:\", nsvc.score(x_resampled_train, y_resampled_train)*100)\n",
    "print(\"Voting train score:\", vote.score(x_resampled_train, y_resampled_train)*100)"
   ]
  },
  {
   "cell_type": "markdown",
   "metadata": {},
   "source": [
    "# Models are evaluated by comparing the predictions against the imbalanced dataset, testing the model on the imbalanced data set is a good way to determine how well the model would do in real life situation if the unknown data set is also imbalanced. "
   ]
  },
  {
   "cell_type": "code",
   "execution_count": 66,
   "metadata": {},
   "outputs": [
    {
     "name": "stdout",
     "output_type": "stream",
     "text": [
      "MultinomialNB test score: 93.15403422982885\n",
      "Bernoulli test score: 88.14180929095355\n",
      "Logistic Regression test score: 91.56479217603912\n",
      "SGDClassifier test score: 91.44254278728606\n",
      "SVC test score: 23.10513447432763\n",
      "LinearSVC test score: 91.80929095354523\n",
      "NuSVC test score: 84.84107579462102\n",
      "Voting test score: 92.42053789731052\n"
     ]
    },
    {
     "name": "stderr",
     "output_type": "stream",
     "text": [
      "C:\\Users\\maniq\\AppData\\Local\\Continuum\\anaconda3\\lib\\site-packages\\sklearn\\preprocessing\\label.py:151: DeprecationWarning: The truth value of an empty array is ambiguous. Returning False, but in future this will result in an error. Use `array.size > 0` to check that an array is not empty.\n",
      "  if diff:\n"
     ]
    }
   ],
   "source": [
    "print(\"MultinomialNB test score:\", mnbc.score(x_test_dtm, y_test)*100)\n",
    "print(\"Bernoulli test score:\", bnbc.score(x_test_dtm, y_test)*100)\n",
    "print(\"Logistic Regression test score:\", lrr.score(x_test_dtm, y_test)*100)\n",
    "print(\"SGDClassifier test score:\", sgdc.score(x_test_dtm, y_test)*100)\n",
    "print(\"SVC test score:\", svc.score(x_test_dtm, y_test)*100)\n",
    "print(\"LinearSVC test score:\", lsvc.score(x_test_dtm, y_test)*100)\n",
    "print(\"NuSVC test score:\", nsvc.score(x_test_dtm, y_test)*100)\n",
    "print(\"Voting test score:\", vote.score(x_test_dtm, y_test)*100)"
   ]
  },
  {
   "cell_type": "markdown",
   "metadata": {},
   "source": [
    "# 21. Accuracy - Models are saved so these models can be used later to predict polarity of tweets"
   ]
  },
  {
   "cell_type": "code",
   "execution_count": 67,
   "metadata": {},
   "outputs": [],
   "source": [
    "from sklearn.metrics import accuracy_score"
   ]
  },
  {
   "cell_type": "code",
   "execution_count": 68,
   "metadata": {},
   "outputs": [
    {
     "name": "stderr",
     "output_type": "stream",
     "text": [
      "C:\\Users\\maniq\\AppData\\Local\\Continuum\\anaconda3\\lib\\site-packages\\sklearn\\preprocessing\\label.py:151: DeprecationWarning: The truth value of an empty array is ambiguous. Returning False, but in future this will result in an error. Use `array.size > 0` to check that an array is not empty.\n",
      "  if diff:\n"
     ]
    }
   ],
   "source": [
    "mnb_predict = mnbc.predict(x_test_dtm)\n",
    "bnb_predict = bnbc.predict(x_test_dtm)\n",
    "lr_predict = lrr.predict(x_test_dtm)\n",
    "sgdc_predict = sgdc.predict(x_test_dtm)\n",
    "svc_predict = svc.predict(x_test_dtm)\n",
    "lsvc_predict = lsvc.predict(x_test_dtm)\n",
    "nsvc_predict = nsvc.predict(x_test_dtm)\n",
    "vote_predict = vote.predict(x_test_dtm)"
   ]
  },
  {
   "cell_type": "code",
   "execution_count": 69,
   "metadata": {},
   "outputs": [
    {
     "name": "stdout",
     "output_type": "stream",
     "text": [
      "MultinomialNB accuracy score: 93.15403422982885\n",
      "Bernoulli accuracy score: 88.14180929095355\n",
      "Logistic accuracy score: 91.56479217603912\n",
      "SGDClassifier accuracy score: 91.44254278728606\n",
      "SVC accuracy score: 23.10513447432763\n",
      "LinearSVC accuracy score: 91.80929095354523\n",
      "NuSVC accuracy score: 84.84107579462102\n",
      "Voting accuracy score: 92.42053789731052\n"
     ]
    }
   ],
   "source": [
    "print(\"MultinomialNB accuracy score:\", accuracy_score(y_test, mnb_predict)*100)\n",
    "print(\"Bernoulli accuracy score:\", accuracy_score(y_test, bnb_predict)*100)\n",
    "print(\"Logistic accuracy score:\", accuracy_score(y_test, lr_predict)*100)\n",
    "print(\"SGDClassifier accuracy score:\", accuracy_score(y_test, sgdc_predict)*100)\n",
    "print(\"SVC accuracy score:\", accuracy_score(y_test, svc_predict)*100)\n",
    "print(\"LinearSVC accuracy score:\", accuracy_score(y_test, lsvc_predict)*100)\n",
    "print(\"NuSVC accuracy score:\", accuracy_score(y_test, nsvc_predict)*100)\n",
    "print(\"Voting accuracy score:\", accuracy_score(y_test, vote_predict)*100)"
   ]
  },
  {
   "cell_type": "markdown",
   "metadata": {},
   "source": [
    "# 22. Precission & Recall"
   ]
  },
  {
   "cell_type": "code",
   "execution_count": 70,
   "metadata": {},
   "outputs": [],
   "source": [
    "from sklearn.metrics import precision_score, recall_score"
   ]
  },
  {
   "cell_type": "code",
   "execution_count": 71,
   "metadata": {},
   "outputs": [
    {
     "name": "stdout",
     "output_type": "stream",
     "text": [
      "MultinomialNB precision score: 88.03418803418803\n",
      "MultinomialNB recall score: 71.03448275862068\n",
      "\n",
      "Bernoulli precision score: 94.44444444444444\n",
      "Bernoulli recall score: 35.172413793103445\n",
      "\n",
      "Logistic precision score: 78.35820895522389\n",
      "Logistic recall score: 72.41379310344827\n",
      "\n",
      "SGDClassifier precision score: 77.37226277372264\n",
      "SGDClassifier recall score: 73.10344827586206\n",
      "\n",
      "SVC precision score: 18.65284974093264\n",
      "SVC recall score: 99.3103448275862\n",
      "\n",
      "LinearSVC precision score: 84.82142857142857\n",
      "LinearSVC recall score: 65.51724137931035\n",
      "\n",
      "NuSVC precision score: 54.75113122171946\n",
      "NuSVC recall score: 83.44827586206897\n",
      "\n",
      "Voting precision score: 82.67716535433071\n",
      "Voting recall score: 72.41379310344827\n"
     ]
    }
   ],
   "source": [
    "print(\"MultinomialNB precision score:\", precision_score(y_test, mnb_predict)*100)\n",
    "print(\"MultinomialNB recall score:\", recall_score(y_test, mnb_predict)*100)\n",
    "print(\"\\nBernoulli precision score:\", precision_score(y_test, bnb_predict)*100)\n",
    "print(\"Bernoulli recall score:\", recall_score(y_test, bnb_predict)*100)\n",
    "print(\"\\nLogistic precision score:\", precision_score(y_test, lr_predict)*100)\n",
    "print(\"Logistic recall score:\", recall_score(y_test, lr_predict)*100)\n",
    "print(\"\\nSGDClassifier precision score:\", precision_score(y_test, sgdc_predict)*100)\n",
    "print(\"SGDClassifier recall score:\", recall_score(y_test, sgdc_predict)*100)\n",
    "print(\"\\nSVC precision score:\", precision_score(y_test, svc_predict)*100)\n",
    "print(\"SVC recall score:\", recall_score(y_test, svc_predict)*100)\n",
    "print(\"\\nLinearSVC precision score:\", precision_score(y_test, lsvc_predict)*100)\n",
    "print(\"LinearSVC recall score:\", recall_score(y_test, lsvc_predict)*100)\n",
    "print(\"\\nNuSVC precision score:\", precision_score(y_test, nsvc_predict)*100)\n",
    "print(\"NuSVC recall score:\", recall_score(y_test, nsvc_predict)*100)\n",
    "print(\"\\nVoting precision score:\", precision_score(y_test, vote_predict)*100)\n",
    "print(\"Voting recall score:\", recall_score(y_test, vote_predict)*100)"
   ]
  },
  {
   "cell_type": "markdown",
   "metadata": {},
   "source": [
    "# 23. Classification report"
   ]
  },
  {
   "cell_type": "code",
   "execution_count": 72,
   "metadata": {},
   "outputs": [],
   "source": [
    "from sklearn.metrics import classification_report"
   ]
  },
  {
   "cell_type": "code",
   "execution_count": 73,
   "metadata": {},
   "outputs": [
    {
     "name": "stdout",
     "output_type": "stream",
     "text": [
      "MultinomialNB\n",
      "              precision    recall  f1-score   support\n",
      "\n",
      "          1       0.88      0.71      0.79       145\n",
      "          5       0.94      0.98      0.96       673\n",
      "\n",
      "avg / total       0.93      0.93      0.93       818\n",
      "\n",
      "------------------------------------------------------\n",
      "Bernoulli\n",
      "              precision    recall  f1-score   support\n",
      "\n",
      "          1       0.94      0.35      0.51       145\n",
      "          5       0.88      1.00      0.93       673\n",
      "\n",
      "avg / total       0.89      0.88      0.86       818\n",
      "\n",
      "------------------------------------------------------\n",
      "Logistic\n",
      "              precision    recall  f1-score   support\n",
      "\n",
      "          1       0.78      0.72      0.75       145\n",
      "          5       0.94      0.96      0.95       673\n",
      "\n",
      "avg / total       0.91      0.92      0.91       818\n",
      "\n",
      "------------------------------------------------------\n",
      "SGDClassifier\n",
      "              precision    recall  f1-score   support\n",
      "\n",
      "          1       0.77      0.73      0.75       145\n",
      "          5       0.94      0.95      0.95       673\n",
      "\n",
      "avg / total       0.91      0.91      0.91       818\n",
      "\n",
      "------------------------------------------------------\n",
      "SVC\n",
      "              precision    recall  f1-score   support\n",
      "\n",
      "          1       0.19      0.99      0.31       145\n",
      "          5       0.98      0.07      0.13       673\n",
      "\n",
      "avg / total       0.84      0.23      0.16       818\n",
      "\n",
      "------------------------------------------------------\n",
      "LinearSVC\n",
      "              precision    recall  f1-score   support\n",
      "\n",
      "          1       0.85      0.66      0.74       145\n",
      "          5       0.93      0.97      0.95       673\n",
      "\n",
      "avg / total       0.91      0.92      0.91       818\n",
      "\n",
      "------------------------------------------------------\n",
      "NuSVC\n",
      "              precision    recall  f1-score   support\n",
      "\n",
      "          1       0.55      0.83      0.66       145\n",
      "          5       0.96      0.85      0.90       673\n",
      "\n",
      "avg / total       0.89      0.85      0.86       818\n",
      "\n",
      "------------------------------------------------------\n",
      "Voting\n",
      "              precision    recall  f1-score   support\n",
      "\n",
      "          1       0.83      0.72      0.77       145\n",
      "          5       0.94      0.97      0.95       673\n",
      "\n",
      "avg / total       0.92      0.92      0.92       818\n",
      "\n"
     ]
    }
   ],
   "source": [
    "print(\"MultinomialNB\\n\",classification_report(y_test, mnb_predict)) \n",
    "print(\"------------------------------------------------------\")\n",
    "print(\"Bernoulli\\n\",classification_report(y_test, bnb_predict)) \n",
    "print(\"------------------------------------------------------\")\n",
    "print(\"Logistic\\n\",classification_report(y_test, lr_predict)) \n",
    "print(\"------------------------------------------------------\")\n",
    "print(\"SGDClassifier\\n\",classification_report(y_test, sgdc_predict)) \n",
    "print(\"------------------------------------------------------\")\n",
    "print(\"SVC\\n\",classification_report(y_test, svc_predict)) \n",
    "print(\"------------------------------------------------------\")\n",
    "print(\"LinearSVC\\n\",classification_report(y_test, lsvc_predict)) \n",
    "print(\"------------------------------------------------------\")\n",
    "print(\"NuSVC\\n\",classification_report(y_test, nsvc_predict)) \n",
    "print(\"------------------------------------------------------\")\n",
    "print(\"Voting\\n\",classification_report(y_test, vote_predict)) "
   ]
  },
  {
   "cell_type": "markdown",
   "metadata": {},
   "source": [
    "# In order to determine how well the model will do on unknown dataset, and exactly how precise and accurate the models are, precision, recall, and f1 scores are calculated using classification report. It is easy for models to detect positive reviews because the testing dataset was left imbalanced and has high representation of positive reviews, which is why scores for minority class, negative reviews are evaluated. Multinomial Naïve Bayes did well on correctly classifying negative tweets by getting an f1-score of 0.79, which is the highest. Voting classifier produced an f1-score of 0.77. Logistic Regression, Gradient Descent, and Linear Support Vector Machines Classifier produced an f1-score of 0.74."
   ]
  },
  {
   "cell_type": "code",
   "execution_count": 74,
   "metadata": {},
   "outputs": [],
   "source": [
    "#checkpoint"
   ]
  },
  {
   "cell_type": "markdown",
   "metadata": {},
   "source": [
    "# 24. Test the model on tweets"
   ]
  },
  {
   "cell_type": "code",
   "execution_count": 75,
   "metadata": {
    "scrolled": true
   },
   "outputs": [
    {
     "data": {
      "text/html": [
       "<div>\n",
       "<style scoped>\n",
       "    .dataframe tbody tr th:only-of-type {\n",
       "        vertical-align: middle;\n",
       "    }\n",
       "\n",
       "    .dataframe tbody tr th {\n",
       "        vertical-align: top;\n",
       "    }\n",
       "\n",
       "    .dataframe thead th {\n",
       "        text-align: right;\n",
       "    }\n",
       "</style>\n",
       "<table border=\"1\" class=\"dataframe\">\n",
       "  <thead>\n",
       "    <tr style=\"text-align: right;\">\n",
       "      <th></th>\n",
       "      <th>text</th>\n",
       "    </tr>\n",
       "  </thead>\n",
       "  <tbody>\n",
       "    <tr>\n",
       "      <th>0</th>\n",
       "      <td>2 months ago Kathy Griffin was a pariah but no...</td>\n",
       "    </tr>\n",
       "    <tr>\n",
       "      <th>1</th>\n",
       "      <td>@SenWarren @realDonaldTrump They are the barba...</td>\n",
       "    </tr>\n",
       "    <tr>\n",
       "      <th>2</th>\n",
       "      <td>If we had any balls, and weren't scared to dea...</td>\n",
       "    </tr>\n",
       "    <tr>\n",
       "      <th>3</th>\n",
       "      <td>Manaforts daughter’s comments \\n#maga #mueller...</td>\n",
       "    </tr>\n",
       "    <tr>\n",
       "      <th>4</th>\n",
       "      <td>@GOP Trump is playing all of you for weak spin...</td>\n",
       "    </tr>\n",
       "  </tbody>\n",
       "</table>\n",
       "</div>"
      ],
      "text/plain": [
       "                                                text\n",
       "0  2 months ago Kathy Griffin was a pariah but no...\n",
       "1  @SenWarren @realDonaldTrump They are the barba...\n",
       "2  If we had any balls, and weren't scared to dea...\n",
       "3  Manaforts daughter’s comments \\n#maga #mueller...\n",
       "4  @GOP Trump is playing all of you for weak spin..."
      ]
     },
     "execution_count": 75,
     "metadata": {},
     "output_type": "execute_result"
    }
   ],
   "source": [
    "new_data.head()"
   ]
  },
  {
   "cell_type": "code",
   "execution_count": 76,
   "metadata": {},
   "outputs": [
    {
     "data": {
      "text/plain": [
       "'2 months ago Kathy Griffin was a pariah but now she’s harassing Kevin Hart for not trashing Trump in his shows. Did I miss something that has elevated her to some kind of champion of the left (I.e., bully).'"
      ]
     },
     "execution_count": 76,
     "metadata": {},
     "output_type": "execute_result"
    }
   ],
   "source": [
    "new_data.text[0]"
   ]
  },
  {
   "cell_type": "markdown",
   "metadata": {},
   "source": [
    "# Tweet text is assigned to x. "
   ]
  },
  {
   "cell_type": "code",
   "execution_count": 77,
   "metadata": {},
   "outputs": [],
   "source": [
    "x = new_data.text"
   ]
  },
  {
   "cell_type": "markdown",
   "metadata": {},
   "source": [
    "# # Stop words are removed from tweets, just like stopwords were removed from yelp reviews because stopwords or common words don’t play much role in polarity (positivity or negativity of the language). Removing these stop words helps save resources."
   ]
  },
  {
   "cell_type": "code",
   "execution_count": 78,
   "metadata": {},
   "outputs": [],
   "source": [
    "x = list(map(lambda a: a.lower().split(), x)) # change all uppercase words or titles to lower cases and split them at space\n",
    "stop_words = set(stopwords.words('english'))  # find all stop words and make them equal to stop_words\n",
    "x = list(map(lambda a: [item for item in a if item not in stop_words], x)) # only save words that are not stopwords\n",
    "x = list(map(lambda a: \" \".join(a), x)) # join back all the words that were seperated by commas"
   ]
  },
  {
   "cell_type": "markdown",
   "metadata": {},
   "source": [
    "# 25. Count Vectorizer takes the text of the tweet and turns them into numbers, so machine learning algorithms that were trained on yelp reviews can predict if the tweet is positive or negative."
   ]
  },
  {
   "cell_type": "code",
   "execution_count": 79,
   "metadata": {},
   "outputs": [],
   "source": [
    "#x_dtm = vect.fit_transform(x) # why not fit_transform? Dimension mismatch\n",
    "x_dtm = vect.transform(x) # Originally"
   ]
  },
  {
   "cell_type": "code",
   "execution_count": 80,
   "metadata": {},
   "outputs": [
    {
     "data": {
      "text/plain": [
       "<209x177744 sparse matrix of type '<class 'numpy.int64'>'\n",
       "\twith 3209 stored elements in Compressed Sparse Row format>"
      ]
     },
     "execution_count": 80,
     "metadata": {},
     "output_type": "execute_result"
    }
   ],
   "source": [
    "x_dtm"
   ]
  },
  {
   "cell_type": "markdown",
   "metadata": {},
   "source": [
    "# 26. TF-IDF is also skipped for tweets because common words were removed using stopwords from nltk corpus."
   ]
  },
  {
   "cell_type": "code",
   "execution_count": 81,
   "metadata": {},
   "outputs": [],
   "source": [
    "#tfidf_transformer = TfidfTransformer()\n",
    "#x_train_tfidf = tfidf_transformer.fit_transform(x_train_dtm)\n",
    "#x_test_tfidf =  tfidf_transformer.transform(x_test_dtm)"
   ]
  },
  {
   "cell_type": "code",
   "execution_count": 82,
   "metadata": {},
   "outputs": [],
   "source": [
    "#x = tfidf_transformer.fit_transform(x)\n",
    "#x_new = tfidf_transformer.transform(x)"
   ]
  },
  {
   "cell_type": "markdown",
   "metadata": {},
   "source": [
    "# 27. Positive and negative tweets"
   ]
  },
  {
   "cell_type": "code",
   "execution_count": 83,
   "metadata": {},
   "outputs": [],
   "source": [
    "#print(nbr.predict(x[60]))\n",
    "#print(lrr.predict(x[60]))"
   ]
  },
  {
   "cell_type": "code",
   "execution_count": 84,
   "metadata": {},
   "outputs": [],
   "source": [
    "#mnbc_prediction[2]"
   ]
  },
  {
   "cell_type": "code",
   "execution_count": 85,
   "metadata": {},
   "outputs": [
    {
     "name": "stderr",
     "output_type": "stream",
     "text": [
      "C:\\Users\\maniq\\AppData\\Local\\Continuum\\anaconda3\\lib\\site-packages\\sklearn\\preprocessing\\label.py:151: DeprecationWarning: The truth value of an empty array is ambiguous. Returning False, but in future this will result in an error. Use `array.size > 0` to check that an array is not empty.\n",
      "  if diff:\n"
     ]
    }
   ],
   "source": [
    "mnbc_prediction = mnbc.predict(x_dtm)\n",
    "lrr_prediction = lrr.predict(x_dtm)\n",
    "sgdc_prediction = sgdc.predict(x_dtm)\n",
    "lsvc_prediction = lsvc.predict(x_dtm)\n",
    "nsvc_prediction = nsvc.predict(x_dtm)\n",
    "vote_prediction = vote.predict(x_dtm)"
   ]
  },
  {
   "cell_type": "markdown",
   "metadata": {},
   "source": [
    "# Tweets are calculated in percentage (100 being the highest possible) for both positive and negative tweets. Each model predicts how many positive tweets and negative tweets are there. Using as many good models as possible is a good way to examine which models mostly predict the tweet as negative or positive."
   ]
  },
  {
   "cell_type": "code",
   "execution_count": 86,
   "metadata": {},
   "outputs": [
    {
     "name": "stdout",
     "output_type": "stream",
     "text": [
      "Mutlinomial negative tweets: 58.3732057416268\n",
      "Multinomial positive tweets: 41.62679425837321\n",
      "\n",
      "Logistic negative tweets: 58.85167464114832\n",
      "Logistic positive tweets: 41.14832535885167\n",
      "\n",
      "SGDC negative tweets: 64.5933014354067\n",
      "SGDC positive tweets: 35.406698564593306\n",
      "\n",
      "LinearSVC negative tweets: 18.181818181818183\n",
      "LinearSVC positive tweets: 81.81818181818183\n",
      "\n",
      "NuSVC negative tweets: 97.1291866028708\n",
      "NuSVC positive tweets: 2.8708133971291865\n",
      "\n",
      "Voting negative tweets: 54.066985645933016\n",
      "Voting positive tweets: 45.933014354066984\n"
     ]
    }
   ],
   "source": [
    "print(\"Mutlinomial negative tweets:\",len(mnbc_prediction[mnbc_prediction==1])/len(mnbc_prediction)*100)\n",
    "print(\"Multinomial positive tweets:\",len(mnbc_prediction[mnbc_prediction==5])/len(mnbc_prediction)*100)\n",
    "print(\"\\nLogistic negative tweets:\",len(lrr_prediction[lrr_prediction==1])/len(lrr_prediction)*100)\n",
    "print(\"Logistic positive tweets:\",len(lrr_prediction[lrr_prediction==5])/len(lrr_prediction)*100)\n",
    "print(\"\\nSGDC negative tweets:\",len(sgdc_prediction[sgdc_prediction==1])/len(sgdc_prediction)*100)\n",
    "print(\"SGDC positive tweets:\",len(sgdc_prediction[sgdc_prediction==5])/len(sgdc_prediction)*100)\n",
    "print(\"\\nLinearSVC negative tweets:\",len(lsvc_prediction[lsvc_prediction==1])/len(lsvc_prediction)*100)\n",
    "print(\"LinearSVC positive tweets:\",len(lsvc_prediction[lsvc_prediction==5])/len(lsvc_prediction)*100)\n",
    "print(\"\\nNuSVC negative tweets:\",len(nsvc_prediction[nsvc_prediction==1])/len(nsvc_prediction)*100)\n",
    "print(\"NuSVC positive tweets:\",len(nsvc_prediction[nsvc_prediction==5])/len(nsvc_prediction)*100)\n",
    "print(\"\\nVoting negative tweets:\",len(vote_prediction[vote_prediction==1])/len(vote_prediction)*100)\n",
    "print(\"Voting positive tweets:\",len(vote_prediction[vote_prediction==5])/len(vote_prediction)*100)"
   ]
  },
  {
   "cell_type": "code",
   "execution_count": 87,
   "metadata": {},
   "outputs": [
    {
     "data": {
      "text/plain": [
       "87"
      ]
     },
     "execution_count": 87,
     "metadata": {},
     "output_type": "execute_result"
    }
   ],
   "source": [
    "(mnbc_prediction==5).sum()"
   ]
  },
  {
   "cell_type": "code",
   "execution_count": 88,
   "metadata": {},
   "outputs": [
    {
     "data": {
      "text/plain": [
       "209"
      ]
     },
     "execution_count": 88,
     "metadata": {},
     "output_type": "execute_result"
    }
   ],
   "source": [
    "len(mnbc_prediction)"
   ]
  },
  {
   "cell_type": "markdown",
   "metadata": {},
   "source": [
    "# Based on the above results for all of the models: Multinomial Naïve Bayes, Logistic Regression, and Gradient Descent predict 50% to 58% tweets are negative and 41% to 48% tweets are positive. Linear Support Vector Machine Classifier predicts 18% tweets are negative and 81% tweets are positive. Voting classifier predicts 65% tweets are negative and 34% tweets are positive."
   ]
  },
  {
   "cell_type": "markdown",
   "metadata": {},
   "source": [
    "# Sentiment Analysis - TextBlob is also used to examine the polarity of tweets.  "
   ]
  },
  {
   "cell_type": "code",
   "execution_count": 89,
   "metadata": {},
   "outputs": [],
   "source": [
    "from textblob import TextBlob"
   ]
  },
  {
   "cell_type": "code",
   "execution_count": 90,
   "metadata": {},
   "outputs": [],
   "source": [
    "def detect_sentiment(text):\n",
    "    return TextBlob(text).sentiment.polarity"
   ]
  },
  {
   "cell_type": "markdown",
   "metadata": {},
   "source": [
    "# Polarity of the tweet is detected using TextBlob and then the polarity is saved on the DataFrame next to the tweet. "
   ]
  },
  {
   "cell_type": "code",
   "execution_count": 91,
   "metadata": {},
   "outputs": [
    {
     "name": "stderr",
     "output_type": "stream",
     "text": [
      "C:\\Users\\maniq\\AppData\\Local\\Continuum\\anaconda3\\lib\\site-packages\\ipykernel_launcher.py:1: SettingWithCopyWarning: \n",
      "A value is trying to be set on a copy of a slice from a DataFrame.\n",
      "Try using .loc[row_indexer,col_indexer] = value instead\n",
      "\n",
      "See the caveats in the documentation: http://pandas.pydata.org/pandas-docs/stable/indexing.html#indexing-view-versus-copy\n",
      "  \"\"\"Entry point for launching an IPython kernel.\n"
     ]
    }
   ],
   "source": [
    "new_data['new_polarity'] = new_data.text.apply(detect_sentiment)"
   ]
  },
  {
   "cell_type": "code",
   "execution_count": 92,
   "metadata": {
    "scrolled": true
   },
   "outputs": [
    {
     "data": {
      "text/html": [
       "<div>\n",
       "<style scoped>\n",
       "    .dataframe tbody tr th:only-of-type {\n",
       "        vertical-align: middle;\n",
       "    }\n",
       "\n",
       "    .dataframe tbody tr th {\n",
       "        vertical-align: top;\n",
       "    }\n",
       "\n",
       "    .dataframe thead th {\n",
       "        text-align: right;\n",
       "    }\n",
       "</style>\n",
       "<table border=\"1\" class=\"dataframe\">\n",
       "  <thead>\n",
       "    <tr style=\"text-align: right;\">\n",
       "      <th></th>\n",
       "      <th>text</th>\n",
       "      <th>new_polarity</th>\n",
       "    </tr>\n",
       "  </thead>\n",
       "  <tbody>\n",
       "    <tr>\n",
       "      <th>0</th>\n",
       "      <td>2 months ago Kathy Griffin was a pariah but no...</td>\n",
       "      <td>0.300000</td>\n",
       "    </tr>\n",
       "    <tr>\n",
       "      <th>1</th>\n",
       "      <td>@SenWarren @realDonaldTrump They are the barba...</td>\n",
       "      <td>0.300000</td>\n",
       "    </tr>\n",
       "    <tr>\n",
       "      <th>2</th>\n",
       "      <td>If we had any balls, and weren't scared to dea...</td>\n",
       "      <td>-0.333333</td>\n",
       "    </tr>\n",
       "    <tr>\n",
       "      <th>3</th>\n",
       "      <td>Manaforts daughter’s comments \\n#maga #mueller...</td>\n",
       "      <td>0.000000</td>\n",
       "    </tr>\n",
       "    <tr>\n",
       "      <th>4</th>\n",
       "      <td>@GOP Trump is playing all of you for weak spin...</td>\n",
       "      <td>-0.265278</td>\n",
       "    </tr>\n",
       "  </tbody>\n",
       "</table>\n",
       "</div>"
      ],
      "text/plain": [
       "                                                text  new_polarity\n",
       "0  2 months ago Kathy Griffin was a pariah but no...      0.300000\n",
       "1  @SenWarren @realDonaldTrump They are the barba...      0.300000\n",
       "2  If we had any balls, and weren't scared to dea...     -0.333333\n",
       "3  Manaforts daughter’s comments \\n#maga #mueller...      0.000000\n",
       "4  @GOP Trump is playing all of you for weak spin...     -0.265278"
      ]
     },
     "execution_count": 92,
     "metadata": {},
     "output_type": "execute_result"
    }
   ],
   "source": [
    "new_data.head()"
   ]
  },
  {
   "cell_type": "code",
   "execution_count": 93,
   "metadata": {},
   "outputs": [
    {
     "data": {
      "text/plain": [
       "84"
      ]
     },
     "execution_count": 93,
     "metadata": {},
     "output_type": "execute_result"
    }
   ],
   "source": [
    "new_data.new_polarity[new_data.new_polarity >0].count()"
   ]
  },
  {
   "cell_type": "code",
   "execution_count": 94,
   "metadata": {},
   "outputs": [
    {
     "data": {
      "text/plain": [
       "88"
      ]
     },
     "execution_count": 94,
     "metadata": {},
     "output_type": "execute_result"
    }
   ],
   "source": [
    "new_data.new_polarity[new_data.new_polarity < 0].count()"
   ]
  },
  {
   "cell_type": "markdown",
   "metadata": {},
   "source": [
    "# In order to evaluate tweets and determine the relaiabaility of TextBlob sentiment and machine learning models, tweets are read and then labelled +1 for positive and -1 for negative"
   ]
  },
  {
   "cell_type": "code",
   "execution_count": 95,
   "metadata": {},
   "outputs": [
    {
     "name": "stdout",
     "output_type": "stream",
     "text": [
      "00 2 months ago Kathy Griffin was a pariah but now she’s harassing Kevin Hart for not trashing Trump in his shows. Did I miss something that has elevated her to some kind of champion of the left (I.e., bully).\n",
      "\n",
      "01 @SenWarren @realDonaldTrump They are the barbaric ones for exposing their children to this. This many people aren't fleeing domestic abuse. We can't let them break our laws. This is the best way to enforce them. At least we are taking care of them.\n",
      "\n",
      "02 If we had any balls, and weren't scared to death of missing a few days work\n",
      "Maybe We'd Be In The Fucking Streets\n",
      "Demanding the Release of\n",
      " 11,000 Children https://t.co/JtaUK0818L\n",
      "\n",
      "03 Manaforts daughter’s comments \n",
      "#maga #mueller #robertmueller #trumptrain #republican #congress #usa #nflboycott #trump #donaldtrump #potus #whitehouse https://t.co/Br6lVSAaIa\n",
      "\n",
      "04 @GOP Trump is playing all of you for weak spineless fools. Stand up to him or cower and allow our country to suffer and go down  in history as traitors. https://t.co/VPnq0CbAua\n",
      "\n",
      "05 @realDonaldTrump You told them Putin took Crimea because they speak russian! What a MORON. It was funny how everyone ran from YOU. https://t.co/HyoVUDjbXY\n",
      "\n",
      "06 @EBoyajy @TheRickWilson Sense is not something that is used in Trump world. In Trump world, you think what is the dumbest thing that can be done and then you do it.\n",
      "\n",
      "07 This is not ok\n",
      "\n",
      "This not America \n",
      "\n",
      "Kim Jong-un’s ‘people’ stand up to attention and cheer him b/c if they don’t they and their families can be executed or sent to labor camps\n",
      "\n",
      "Stop normalizing this\n",
      "\n",
      "Get him out @GOP or you will be out for decades b/c we will never forget https://t.co/VFqayyvNKd\n",
      "\n",
      "08 With the latest #tariff announcement by the #Trump administration targeting Chinese goods, it’s hard to tell whether we are inexorably heading towards a #TradeWar or whether this is another Trumpian negotiating tactic. Regardless, the time for #denouement is fast approaching.\n",
      "\n",
      "09 I wonder if #PaulManafort is still feeling loyal to the criminal @realDonaldTrump.  Gone from $5,000 suits to a orange jumpsuit every ever criminal is wearing.  There is a God! #YouReapWhatYouSow\n",
      "\n",
      "10 Where else can he go? His supporters A:  they don't have their own propaganda TV station\n",
      "B: they have a hard time with understanding facts. https://t.co/qPOx3IMEhx\n",
      "\n",
      "11 @realDonaldTrump @POTUS ask manafort what it’s like to be in jail for Father’s Day and everyday after. \n",
      "The children taken from their parents did not commit a crime any crime worthy of horrible treatment you are inflicting\n",
      "\n",
      "12 @real_farmacist @realDonaldTrump Why do you post 8 replies to nearly every single Trump tweet?\n",
      "\n",
      "Better question, how the fuck haven't you been banned yet?\n",
      "\n",
      "13 @WalshFreedom We withdrew from the UN Human Rights Council  today as well.. Welcome to the Autocratic States of Amerikka.. \n",
      "You getting the picture yet? Why Dems and never Trump have formed a Resistance.. Hello?\n",
      "\n",
      "14 @VP @frank_rewold @POTUS @HouseGOP Ray Dalio: 70% chance of recession before 2020 election - The roaring American economy will probably sink into a recession before President Trump stands for re-election in 2020… https://t.co/OcHPN0nxwL\n",
      "\n",
      "15 @JulianSvendsen @aepanico @realDonaldTrump #trump is an Obama wanna be. He lacks all character that is necessary to be an American president. He is wrecking our great nation with horrible policies! #GOP lost these: family values, fiscally conservative, faith, integrity, honesty, pro-life, military...\n",
      "\n",
      "16 @WrathOfKhan2016 @JoAnnMahoney6 @realDonaldTrump How is that need Trust that were like 60 years ago all those parents are probably dead don't always believe what this idiot says Trump is a draft Dodger so f*** him\n",
      "\n",
      "17 @SenJohnMcCain Can we please stop debating whether Trump has authoritian/dictator envy?\n",
      " \"He's the head of a country, and I mean he's the strong head. Don't let anyone think anything different. He speaks and his people sit up at attention. I want my people to do the same.\"\n",
      "\n",
      "18 \"The President of the United States wants the American people to \n",
      "give him the same attention that the North Korean people.,,#LockHimUp https://t.co/ZWXwIBdMTU\n",
      "\n",
      "19 A live TV poll taken on Michelle Wolf’s Netflix show found that  71% of the  liberal audience would rather see peace with North  Korea FAIL,  than see Donald Trump take credit for it. https://t.co/NbvB82wG5S\n"
     ]
    }
   ],
   "source": [
    "print(\"00\",new_data.text[0])        # \n",
    "print(\"\\n01\",new_data.text[1])      # \n",
    "print(\"\\n02\",new_data.text[2])      # \n",
    "print(\"\\n03\",new_data.text[3])      # \n",
    "print(\"\\n04\",new_data.text[4])      # \n",
    "print(\"\\n05\",new_data.text[5])      # \n",
    "print(\"\\n06\",new_data.text[6])      # \n",
    "print(\"\\n07\",new_data.text[7])      # \n",
    "print(\"\\n08\",new_data.text[8])      # \n",
    "print(\"\\n09\",new_data.text[9])      # \n",
    "print(\"\\n10\",new_data.text[10])     # \n",
    "print(\"\\n11\",new_data.text[11])     # \n",
    "print(\"\\n12\",new_data.text[12])     # \n",
    "print(\"\\n13\",new_data.text[13])     # \n",
    "print(\"\\n14\",new_data.text[14])     # \n",
    "print(\"\\n15\",new_data.text[15])     # \n",
    "print(\"\\n16\",new_data.text[16])     # \n",
    "print(\"\\n17\",new_data.text[17])     # \n",
    "print(\"\\n18\",new_data.text[18])     # \n",
    "print(\"\\n19\",new_data.text[19])     # \n"
   ]
  },
  {
   "cell_type": "markdown",
   "metadata": {},
   "source": [
    "# My criteria to label a tweet positive or negative was to consider how I would or anyone would talk to a child. And people usually refrain from using negative words so children will not pick up any negative and words and profanity. Hence, even mention of a single negative word in a tweet was labelled as negative. Tweets were labelled as positive or negative based on the tone of words and not my personal political standing and viewpoint. \n",
    "\n",
    "# After reading twenty tweets, 16 tweets were labelled negative and 4 tweets were labelled positive, which is 80% negative and 20% positive. In a different twitter stream on the same topic of Donald Trump, I read 60 tweets and over 40 of them were negative and 20 were positive. That brings it close to Voting classifier which labels 65% tweets as negative and 34% tweets as positive and this model also performed well on the yelp reviews, which has an f1-score of 0.77 for minority class. \n",
    "\n",
    "# As hypothesized in the beginning of the project that most tweets will be negative and after running the models and actually reading the tweets, most tweets are negative. People also tweeted about North Korea and separation of families, which led to positive as well as negative polarity. \n",
    "\n",
    "# The best way to label tweets as positive or negative is to actually read the tweet and then label them, but it is even effective to have a small team of people read tweets and then cast a vote on each tweet. Because one person could have more stern criteria or bias on a topic and the other person could have a more balanced approach and having more people vote on tweets will help get a better idea of how people in general feel and think about a tweet and categorize it as negative or positive. \n",
    "\n",
    "# One area to explore would be to stream tweets with mixed positive and negative words and then predict the tweets using machine learning models and TextBlob  to assess which different models predict more positive or negative tweets. \n",
    "\n",
    "# It is understandable that more tweets are negative because it's a controversial topic and it might even help to choose a different topic that is not political. \n",
    "\n",
    "# Even when tweets are read, it is hard sometimes to label something as positive and negative because the tweets are simply neutral and polarity cannot be observed as simply black and white. One idea can be incorporated from TextBlob which is to have different levels of polarity. Possibly 5 levels or categories, which would allow 2 positive and 2 negative polarity levels with one neutral level. Doing sentiment analysis can tell what the general outlook about a topic is, but sentiment would have to be cross referenced, possibly by reading some actual tweets or creating some other method, to determine and validate how much polarity a topic has. "
   ]
  }
 ],
 "metadata": {
  "kernelspec": {
   "display_name": "Python 3",
   "language": "python",
   "name": "python3"
  },
  "language_info": {
   "codemirror_mode": {
    "name": "ipython",
    "version": 3
   },
   "file_extension": ".py",
   "mimetype": "text/x-python",
   "name": "python",
   "nbconvert_exporter": "python",
   "pygments_lexer": "ipython3",
   "version": "3.6.4"
  }
 },
 "nbformat": 4,
 "nbformat_minor": 2
}
